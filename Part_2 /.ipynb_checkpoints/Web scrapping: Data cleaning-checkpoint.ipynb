{
 "cells": [
  {
   "cell_type": "code",
   "execution_count": 2,
   "metadata": {
    "ExecuteTime": {
     "end_time": "2021-04-23T20:16:00.326029Z",
     "start_time": "2021-04-23T20:15:59.265857Z"
    }
   },
   "outputs": [],
   "source": [
    "import requests\n",
    "import bs4\n",
    "from bs4 import BeautifulSoup\n",
    "import pprint\n",
    "from time import sleep\n",
    "import pandas as pd\n",
    "import numpy as np\n",
    "import tqdm\n"
   ]
  },
  {
   "cell_type": "markdown",
   "metadata": {},
   "source": [
    "## Make functions for extracting certain fields for future dataframe"
   ]
  },
  {
   "cell_type": "code",
   "execution_count": null,
   "metadata": {},
   "outputs": [],
   "source": [
    "def extract_brand_name(result):\n",
    "    brands = []\n",
    "    for i in result:\n",
    "        try:\n",
    "            brands.append(i.find('span',attrs={'class':\"productSnippet__text--brand\"}).text.strip())\n",
    "        except:\n",
    "            brands.append(np.nan)\n",
    "    return brands\n"
   ]
  },
  {
   "cell_type": "code",
   "execution_count": null,
   "metadata": {},
   "outputs": [],
   "source": [
    "def extract_title(result):\n",
    "    titles = []\n",
    "    for i in result:\n",
    "        try:\n",
    "            titles.append(i.find('span',attrs={'class':\"productSnippet__text--name\"}).text.strip())\n",
    "        except:\n",
    "            titles.append(np.nan)\n",
    "    return titles\n"
   ]
  },
  {
   "cell_type": "code",
   "execution_count": null,
   "metadata": {},
   "outputs": [],
   "source": [
    "def extract_url(result):\n",
    "    urls = []\n",
    "    for i in result:\n",
    "        try:\n",
    "            ids = []\n",
    "            for a in div.find_all('a',attrs={'itemprop':\"url\"}):\n",
    "                ids.append(a[\"href\"]) \n",
    "            prefix = \"https://www.vestiairecollective.com\"\n",
    "            for idd in ids:\n",
    "                urls.append(prefix+str(ids))\n",
    "        except:\n",
    "            urls.append(np.nan)\n",
    "    return urls\n"
   ]
  },
  {
   "cell_type": "code",
   "execution_count": null,
   "metadata": {},
   "outputs": [],
   "source": [
    "def extract_price(result):\n",
    "    prices = []\n",
    "    for i in result:\n",
    "        try:\n",
    "            prices.append(i.find('span',attrs={'class':\"productSnippet__price productSnippet__price--discount\"}).text.strip()\n",
    "        except:\n",
    "            prices.append(np.nan)\n",
    "    return prices\n"
   ]
  },
  {
   "cell_type": "code",
   "execution_count": null,
   "metadata": {},
   "outputs": [],
   "source": [
    "def extract_likes(result):\n",
    "    likes = []\n",
    "    for i in result:\n",
    "        try:\n",
    "            likes.append(i.find('div',attrs={'class':\"likeSnippet__count\"}).text\n",
    "        except:\n",
    "            likes.append(np.nan)\n",
    "    return likes\n",
    "                         "
   ]
  },
  {
   "cell_type": "code",
   "execution_count": null,
   "metadata": {},
   "outputs": [],
   "source": [
    "def extract_sold_out(result):\n",
    "    sold = []\n",
    "    for i in result:\n",
    "        try: \n",
    "            if i.find('span',attrs={'class':\"productSnippet__imageWrapper__soldText\"}).text == 'Already sold':\n",
    "                sold.append(1)\n",
    "        except:\n",
    "            sold.append(0)\n",
    "    return sold\n",
    "                        "
   ]
  },
  {
   "cell_type": "markdown",
   "metadata": {},
   "source": [
    "## Web Scraping and Creating dataframes with extracted data\n"
   ]
  },
  {
   "cell_type": "code",
   "execution_count": 44,
   "metadata": {},
   "outputs": [
    {
     "name": "stdout",
     "output_type": "stream",
     "text": [
      "0 Louis%20Vuitton%2317 Speedy%2313-Speedy%20Bandouli%C3%A8re%232089 0\n",
      "0 Louis%20Vuitton%2317 Neverfull%2315 0\n",
      "0 Louis%20Vuitton%2317 Alma%20BB%232060-Alma%2314-No%C3%A9%23145 0\n",
      "60 Louis%20Vuitton%2317 Speedy%2313-Speedy%20Bandouli%C3%A8re%232089 0\n",
      "60 Louis%20Vuitton%2317 Neverfull%2315 0\n",
      "60 Louis%20Vuitton%2317 Alma%20BB%232060-Alma%2314-No%C3%A9%23145 0\n",
      "120 Louis%20Vuitton%2317 Speedy%2313-Speedy%20Bandouli%C3%A8re%232089 0\n",
      "120 Louis%20Vuitton%2317 Neverfull%2315 0\n",
      "120 Louis%20Vuitton%2317 Alma%20BB%232060-Alma%2314-No%C3%A9%23145 0\n",
      "180 Louis%20Vuitton%2317 Speedy%2313-Speedy%20Bandouli%C3%A8re%232089 0\n",
      "180 Louis%20Vuitton%2317 Neverfull%2315 0\n",
      "180 Louis%20Vuitton%2317 Alma%20BB%232060-Alma%2314-No%C3%A9%23145 0\n",
      "240 Louis%20Vuitton%2317 Speedy%2313-Speedy%20Bandouli%C3%A8re%232089 0\n",
      "240 Louis%20Vuitton%2317 Neverfull%2315 0\n",
      "240 Louis%20Vuitton%2317 Alma%20BB%232060-Alma%2314-No%C3%A9%23145 0\n",
      "300 Louis%20Vuitton%2317 Speedy%2313-Speedy%20Bandouli%C3%A8re%232089 0\n",
      "300 Louis%20Vuitton%2317 Neverfull%2315 0\n",
      "300 Louis%20Vuitton%2317 Alma%20BB%232060-Alma%2314-No%C3%A9%23145 0\n",
      "360 Louis%20Vuitton%2317 Speedy%2313-Speedy%20Bandouli%C3%A8re%232089 0\n",
      "360 Louis%20Vuitton%2317 Neverfull%2315 0\n",
      "360 Louis%20Vuitton%2317 Alma%20BB%232060-Alma%2314-No%C3%A9%23145 0\n",
      "420 Louis%20Vuitton%2317 Speedy%2313-Speedy%20Bandouli%C3%A8re%232089 0\n",
      "420 Louis%20Vuitton%2317 Neverfull%2315 0\n",
      "420 Louis%20Vuitton%2317 Alma%20BB%232060-Alma%2314-No%C3%A9%23145 0\n",
      "480 Louis%20Vuitton%2317 Speedy%2313-Speedy%20Bandouli%C3%A8re%232089 0\n",
      "480 Louis%20Vuitton%2317 Neverfull%2315 0\n",
      "480 Louis%20Vuitton%2317 Alma%20BB%232060-Alma%2314-No%C3%A9%23145 0\n",
      "540 Louis%20Vuitton%2317 Speedy%2313-Speedy%20Bandouli%C3%A8re%232089 0\n",
      "540 Louis%20Vuitton%2317 Neverfull%2315 0\n",
      "540 Louis%20Vuitton%2317 Alma%20BB%232060-Alma%2314-No%C3%A9%23145 0\n",
      "600 Louis%20Vuitton%2317 Speedy%2313-Speedy%20Bandouli%C3%A8re%232089 0\n",
      "600 Louis%20Vuitton%2317 Neverfull%2315 0\n",
      "600 Louis%20Vuitton%2317 Alma%20BB%232060-Alma%2314-No%C3%A9%23145 0\n",
      "660 Louis%20Vuitton%2317 Speedy%2313-Speedy%20Bandouli%C3%A8re%232089 0\n",
      "660 Louis%20Vuitton%2317 Neverfull%2315 0\n",
      "660 Louis%20Vuitton%2317 Alma%20BB%232060-Alma%2314-No%C3%A9%23145 0\n",
      "720 Louis%20Vuitton%2317 Speedy%2313-Speedy%20Bandouli%C3%A8re%232089 0\n",
      "720 Louis%20Vuitton%2317 Neverfull%2315 0\n",
      "720 Louis%20Vuitton%2317 Alma%20BB%232060-Alma%2314-No%C3%A9%23145 0\n",
      "780 Louis%20Vuitton%2317 Speedy%2313-Speedy%20Bandouli%C3%A8re%232089 0\n",
      "780 Louis%20Vuitton%2317 Neverfull%2315 0\n",
      "780 Louis%20Vuitton%2317 Alma%20BB%232060-Alma%2314-No%C3%A9%23145 0\n",
      "840 Louis%20Vuitton%2317 Speedy%2313-Speedy%20Bandouli%C3%A8re%232089 0\n",
      "840 Louis%20Vuitton%2317 Neverfull%2315 0\n",
      "840 Louis%20Vuitton%2317 Alma%20BB%232060-Alma%2314-No%C3%A9%23145 0\n",
      "900 Louis%20Vuitton%2317 Speedy%2313-Speedy%20Bandouli%C3%A8re%232089 0\n",
      "900 Louis%20Vuitton%2317 Neverfull%2315 0\n",
      "900 Louis%20Vuitton%2317 Alma%20BB%232060-Alma%2314-No%C3%A9%23145 0\n",
      "960 Louis%20Vuitton%2317 Speedy%2313-Speedy%20Bandouli%C3%A8re%232089 0\n",
      "960 Louis%20Vuitton%2317 Neverfull%2315 0\n",
      "960 Louis%20Vuitton%2317 Alma%20BB%232060-Alma%2314-No%C3%A9%23145 0\n",
      "0 Louis%20Vuitton%2317 Speedy%2313-Speedy%20Bandouli%C3%A8re%232089 1\n",
      "0 Louis%20Vuitton%2317 Neverfull%2315 1\n",
      "0 Louis%20Vuitton%2317 Alma%20BB%232060-Alma%2314-No%C3%A9%23145 1\n",
      "60 Louis%20Vuitton%2317 Speedy%2313-Speedy%20Bandouli%C3%A8re%232089 1\n",
      "60 Louis%20Vuitton%2317 Neverfull%2315 1\n",
      "60 Louis%20Vuitton%2317 Alma%20BB%232060-Alma%2314-No%C3%A9%23145 1\n",
      "120 Louis%20Vuitton%2317 Speedy%2313-Speedy%20Bandouli%C3%A8re%232089 1\n",
      "120 Louis%20Vuitton%2317 Neverfull%2315 1\n",
      "120 Louis%20Vuitton%2317 Alma%20BB%232060-Alma%2314-No%C3%A9%23145 1\n",
      "180 Louis%20Vuitton%2317 Speedy%2313-Speedy%20Bandouli%C3%A8re%232089 1\n",
      "180 Louis%20Vuitton%2317 Neverfull%2315 1\n",
      "180 Louis%20Vuitton%2317 Alma%20BB%232060-Alma%2314-No%C3%A9%23145 1\n",
      "240 Louis%20Vuitton%2317 Speedy%2313-Speedy%20Bandouli%C3%A8re%232089 1\n",
      "240 Louis%20Vuitton%2317 Neverfull%2315 1\n",
      "240 Louis%20Vuitton%2317 Alma%20BB%232060-Alma%2314-No%C3%A9%23145 1\n",
      "300 Louis%20Vuitton%2317 Speedy%2313-Speedy%20Bandouli%C3%A8re%232089 1\n",
      "300 Louis%20Vuitton%2317 Neverfull%2315 1\n",
      "300 Louis%20Vuitton%2317 Alma%20BB%232060-Alma%2314-No%C3%A9%23145 1\n",
      "360 Louis%20Vuitton%2317 Speedy%2313-Speedy%20Bandouli%C3%A8re%232089 1\n",
      "360 Louis%20Vuitton%2317 Neverfull%2315 1\n",
      "360 Louis%20Vuitton%2317 Alma%20BB%232060-Alma%2314-No%C3%A9%23145 1\n",
      "420 Louis%20Vuitton%2317 Speedy%2313-Speedy%20Bandouli%C3%A8re%232089 1\n",
      "420 Louis%20Vuitton%2317 Neverfull%2315 1\n",
      "420 Louis%20Vuitton%2317 Alma%20BB%232060-Alma%2314-No%C3%A9%23145 1\n",
      "480 Louis%20Vuitton%2317 Speedy%2313-Speedy%20Bandouli%C3%A8re%232089 1\n",
      "480 Louis%20Vuitton%2317 Neverfull%2315 1\n",
      "480 Louis%20Vuitton%2317 Alma%20BB%232060-Alma%2314-No%C3%A9%23145 1\n",
      "540 Louis%20Vuitton%2317 Speedy%2313-Speedy%20Bandouli%C3%A8re%232089 1\n",
      "540 Louis%20Vuitton%2317 Neverfull%2315 1\n",
      "540 Louis%20Vuitton%2317 Alma%20BB%232060-Alma%2314-No%C3%A9%23145 1\n",
      "600 Louis%20Vuitton%2317 Speedy%2313-Speedy%20Bandouli%C3%A8re%232089 1\n",
      "600 Louis%20Vuitton%2317 Neverfull%2315 1\n",
      "600 Louis%20Vuitton%2317 Alma%20BB%232060-Alma%2314-No%C3%A9%23145 1\n",
      "660 Louis%20Vuitton%2317 Speedy%2313-Speedy%20Bandouli%C3%A8re%232089 1\n",
      "660 Louis%20Vuitton%2317 Neverfull%2315 1\n",
      "660 Louis%20Vuitton%2317 Alma%20BB%232060-Alma%2314-No%C3%A9%23145 1\n",
      "720 Louis%20Vuitton%2317 Speedy%2313-Speedy%20Bandouli%C3%A8re%232089 1\n",
      "720 Louis%20Vuitton%2317 Neverfull%2315 1\n",
      "720 Louis%20Vuitton%2317 Alma%20BB%232060-Alma%2314-No%C3%A9%23145 1\n",
      "780 Louis%20Vuitton%2317 Speedy%2313-Speedy%20Bandouli%C3%A8re%232089 1\n",
      "780 Louis%20Vuitton%2317 Neverfull%2315 1\n",
      "780 Louis%20Vuitton%2317 Alma%20BB%232060-Alma%2314-No%C3%A9%23145 1\n",
      "840 Louis%20Vuitton%2317 Speedy%2313-Speedy%20Bandouli%C3%A8re%232089 1\n",
      "840 Louis%20Vuitton%2317 Neverfull%2315 1\n",
      "840 Louis%20Vuitton%2317 Alma%20BB%232060-Alma%2314-No%C3%A9%23145 1\n",
      "900 Louis%20Vuitton%2317 Speedy%2313-Speedy%20Bandouli%C3%A8re%232089 1\n",
      "900 Louis%20Vuitton%2317 Neverfull%2315 1\n",
      "900 Louis%20Vuitton%2317 Alma%20BB%232060-Alma%2314-No%C3%A9%23145 1\n",
      "960 Louis%20Vuitton%2317 Speedy%2313-Speedy%20Bandouli%C3%A8re%232089 1\n",
      "960 Louis%20Vuitton%2317 Neverfull%2315 1\n",
      "960 Louis%20Vuitton%2317 Alma%20BB%232060-Alma%2314-No%C3%A9%23145 1\n",
      "0 Chanel%2350 Wallet%20on%20Chain%23883 0\n",
      "0 Chanel%2350 Timeless%2FClassique%233 0\n",
      "0 Chanel%2350 Boy%234 0\n",
      "0 Chanel%2350 2.55%232 0\n",
      "60 Chanel%2350 Wallet%20on%20Chain%23883 0\n",
      "60 Chanel%2350 Timeless%2FClassique%233 0\n",
      "60 Chanel%2350 Boy%234 0\n",
      "60 Chanel%2350 2.55%232 0\n",
      "120 Chanel%2350 Wallet%20on%20Chain%23883 0\n",
      "120 Chanel%2350 Timeless%2FClassique%233 0\n",
      "120 Chanel%2350 Boy%234 0\n",
      "120 Chanel%2350 2.55%232 0\n",
      "180 Chanel%2350 Wallet%20on%20Chain%23883 0\n",
      "180 Chanel%2350 Timeless%2FClassique%233 0\n",
      "180 Chanel%2350 Boy%234 0\n",
      "180 Chanel%2350 2.55%232 0\n",
      "240 Chanel%2350 Wallet%20on%20Chain%23883 0\n",
      "240 Chanel%2350 Timeless%2FClassique%233 0\n",
      "240 Chanel%2350 Boy%234 0\n",
      "240 Chanel%2350 2.55%232 0\n",
      "300 Chanel%2350 Wallet%20on%20Chain%23883 0\n",
      "300 Chanel%2350 Timeless%2FClassique%233 0\n",
      "300 Chanel%2350 Boy%234 0\n",
      "300 Chanel%2350 2.55%232 0\n",
      "360 Chanel%2350 Wallet%20on%20Chain%23883 0\n",
      "360 Chanel%2350 Timeless%2FClassique%233 0\n",
      "360 Chanel%2350 Boy%234 0\n",
      "360 Chanel%2350 2.55%232 0\n",
      "420 Chanel%2350 Wallet%20on%20Chain%23883 0\n",
      "420 Chanel%2350 Timeless%2FClassique%233 0\n",
      "420 Chanel%2350 Boy%234 0\n",
      "420 Chanel%2350 2.55%232 0\n",
      "480 Chanel%2350 Wallet%20on%20Chain%23883 0\n",
      "480 Chanel%2350 Timeless%2FClassique%233 0\n",
      "480 Chanel%2350 Boy%234 0\n",
      "480 Chanel%2350 2.55%232 0\n",
      "540 Chanel%2350 Wallet%20on%20Chain%23883 0\n",
      "540 Chanel%2350 Timeless%2FClassique%233 0\n",
      "540 Chanel%2350 Boy%234 0\n",
      "540 Chanel%2350 2.55%232 0\n",
      "600 Chanel%2350 Wallet%20on%20Chain%23883 0\n",
      "600 Chanel%2350 Timeless%2FClassique%233 0\n",
      "600 Chanel%2350 Boy%234 0\n",
      "600 Chanel%2350 2.55%232 0\n",
      "660 Chanel%2350 Wallet%20on%20Chain%23883 0\n",
      "660 Chanel%2350 Timeless%2FClassique%233 0\n",
      "660 Chanel%2350 Boy%234 0\n",
      "660 Chanel%2350 2.55%232 0\n",
      "720 Chanel%2350 Wallet%20on%20Chain%23883 0\n",
      "720 Chanel%2350 Timeless%2FClassique%233 0\n",
      "720 Chanel%2350 Boy%234 0\n",
      "720 Chanel%2350 2.55%232 0\n",
      "780 Chanel%2350 Wallet%20on%20Chain%23883 0\n",
      "780 Chanel%2350 Timeless%2FClassique%233 0\n",
      "780 Chanel%2350 Boy%234 0\n",
      "780 Chanel%2350 2.55%232 0\n",
      "840 Chanel%2350 Wallet%20on%20Chain%23883 0\n",
      "840 Chanel%2350 Timeless%2FClassique%233 0\n",
      "840 Chanel%2350 Boy%234 0\n",
      "840 Chanel%2350 2.55%232 0\n",
      "900 Chanel%2350 Wallet%20on%20Chain%23883 0\n",
      "900 Chanel%2350 Timeless%2FClassique%233 0\n",
      "900 Chanel%2350 Boy%234 0\n",
      "900 Chanel%2350 2.55%232 0\n",
      "960 Chanel%2350 Wallet%20on%20Chain%23883 0\n",
      "960 Chanel%2350 Timeless%2FClassique%233 0\n",
      "960 Chanel%2350 Boy%234 0\n",
      "960 Chanel%2350 2.55%232 0\n",
      "0 Chanel%2350 Wallet%20on%20Chain%23883 1\n",
      "0 Chanel%2350 Timeless%2FClassique%233 1\n",
      "0 Chanel%2350 Boy%234 1\n",
      "0 Chanel%2350 2.55%232 1\n",
      "60 Chanel%2350 Wallet%20on%20Chain%23883 1\n",
      "60 Chanel%2350 Timeless%2FClassique%233 1\n",
      "60 Chanel%2350 Boy%234 1\n",
      "60 Chanel%2350 2.55%232 1\n",
      "120 Chanel%2350 Wallet%20on%20Chain%23883 1\n",
      "120 Chanel%2350 Timeless%2FClassique%233 1\n",
      "120 Chanel%2350 Boy%234 1\n",
      "120 Chanel%2350 2.55%232 1\n",
      "180 Chanel%2350 Wallet%20on%20Chain%23883 1\n",
      "180 Chanel%2350 Timeless%2FClassique%233 1\n",
      "180 Chanel%2350 Boy%234 1\n",
      "180 Chanel%2350 2.55%232 1\n",
      "240 Chanel%2350 Wallet%20on%20Chain%23883 1\n",
      "240 Chanel%2350 Timeless%2FClassique%233 1\n",
      "240 Chanel%2350 Boy%234 1\n",
      "240 Chanel%2350 2.55%232 1\n",
      "300 Chanel%2350 Wallet%20on%20Chain%23883 1\n",
      "300 Chanel%2350 Timeless%2FClassique%233 1\n",
      "300 Chanel%2350 Boy%234 1\n",
      "300 Chanel%2350 2.55%232 1\n",
      "360 Chanel%2350 Wallet%20on%20Chain%23883 1\n",
      "360 Chanel%2350 Timeless%2FClassique%233 1\n",
      "360 Chanel%2350 Boy%234 1\n",
      "360 Chanel%2350 2.55%232 1\n",
      "420 Chanel%2350 Wallet%20on%20Chain%23883 1\n",
      "420 Chanel%2350 Timeless%2FClassique%233 1\n",
      "420 Chanel%2350 Boy%234 1\n",
      "420 Chanel%2350 2.55%232 1\n",
      "480 Chanel%2350 Wallet%20on%20Chain%23883 1\n",
      "480 Chanel%2350 Timeless%2FClassique%233 1\n",
      "480 Chanel%2350 Boy%234 1\n",
      "480 Chanel%2350 2.55%232 1\n",
      "540 Chanel%2350 Wallet%20on%20Chain%23883 1\n",
      "540 Chanel%2350 Timeless%2FClassique%233 1\n",
      "540 Chanel%2350 Boy%234 1\n",
      "540 Chanel%2350 2.55%232 1\n",
      "600 Chanel%2350 Wallet%20on%20Chain%23883 1\n",
      "600 Chanel%2350 Timeless%2FClassique%233 1\n",
      "600 Chanel%2350 Boy%234 1\n",
      "600 Chanel%2350 2.55%232 1\n",
      "660 Chanel%2350 Wallet%20on%20Chain%23883 1\n",
      "660 Chanel%2350 Timeless%2FClassique%233 1\n",
      "660 Chanel%2350 Boy%234 1\n",
      "660 Chanel%2350 2.55%232 1\n",
      "720 Chanel%2350 Wallet%20on%20Chain%23883 1\n",
      "720 Chanel%2350 Timeless%2FClassique%233 1\n",
      "720 Chanel%2350 Boy%234 1\n",
      "720 Chanel%2350 2.55%232 1\n",
      "780 Chanel%2350 Wallet%20on%20Chain%23883 1\n",
      "780 Chanel%2350 Timeless%2FClassique%233 1\n",
      "780 Chanel%2350 Boy%234 1\n",
      "780 Chanel%2350 2.55%232 1\n",
      "840 Chanel%2350 Wallet%20on%20Chain%23883 1\n",
      "840 Chanel%2350 Timeless%2FClassique%233 1\n",
      "840 Chanel%2350 Boy%234 1\n",
      "840 Chanel%2350 2.55%232 1\n",
      "900 Chanel%2350 Wallet%20on%20Chain%23883 1\n",
      "900 Chanel%2350 Timeless%2FClassique%233 1\n",
      "900 Chanel%2350 Boy%234 1\n",
      "900 Chanel%2350 2.55%232 1\n",
      "960 Chanel%2350 Wallet%20on%20Chain%23883 1\n",
      "960 Chanel%2350 Timeless%2FClassique%233 1\n",
      "960 Chanel%2350 Boy%234 1\n",
      "960 Chanel%2350 2.55%232 1\n",
      "0 Herm%C3%A8s%2314 Birkin%2025%232367-Birkin%2030%232366-Birkin%2035%238-Birkin%2040%232368 0\n",
      "0 Herm%C3%A8s%2314 Kelly%2025%232370-Kelly%2028%232371-Kelly%2032%239-Kelly%2035%232372 0\n",
      "60 Herm%C3%A8s%2314 Birkin%2025%232367-Birkin%2030%232366-Birkin%2035%238-Birkin%2040%232368 0\n",
      "60 Herm%C3%A8s%2314 Kelly%2025%232370-Kelly%2028%232371-Kelly%2032%239-Kelly%2035%232372 0\n",
      "120 Herm%C3%A8s%2314 Birkin%2025%232367-Birkin%2030%232366-Birkin%2035%238-Birkin%2040%232368 0\n",
      "120 Herm%C3%A8s%2314 Kelly%2025%232370-Kelly%2028%232371-Kelly%2032%239-Kelly%2035%232372 0\n",
      "180 Herm%C3%A8s%2314 Birkin%2025%232367-Birkin%2030%232366-Birkin%2035%238-Birkin%2040%232368 0\n",
      "180 Herm%C3%A8s%2314 Kelly%2025%232370-Kelly%2028%232371-Kelly%2032%239-Kelly%2035%232372 0\n",
      "240 Herm%C3%A8s%2314 Birkin%2025%232367-Birkin%2030%232366-Birkin%2035%238-Birkin%2040%232368 0\n",
      "240 Herm%C3%A8s%2314 Kelly%2025%232370-Kelly%2028%232371-Kelly%2032%239-Kelly%2035%232372 0\n",
      "300 Herm%C3%A8s%2314 Birkin%2025%232367-Birkin%2030%232366-Birkin%2035%238-Birkin%2040%232368 0\n",
      "300 Herm%C3%A8s%2314 Kelly%2025%232370-Kelly%2028%232371-Kelly%2032%239-Kelly%2035%232372 0\n",
      "360 Herm%C3%A8s%2314 Birkin%2025%232367-Birkin%2030%232366-Birkin%2035%238-Birkin%2040%232368 0\n",
      "360 Herm%C3%A8s%2314 Kelly%2025%232370-Kelly%2028%232371-Kelly%2032%239-Kelly%2035%232372 0\n",
      "420 Herm%C3%A8s%2314 Birkin%2025%232367-Birkin%2030%232366-Birkin%2035%238-Birkin%2040%232368 0\n",
      "420 Herm%C3%A8s%2314 Kelly%2025%232370-Kelly%2028%232371-Kelly%2032%239-Kelly%2035%232372 0\n",
      "480 Herm%C3%A8s%2314 Birkin%2025%232367-Birkin%2030%232366-Birkin%2035%238-Birkin%2040%232368 0\n",
      "480 Herm%C3%A8s%2314 Kelly%2025%232370-Kelly%2028%232371-Kelly%2032%239-Kelly%2035%232372 0\n",
      "540 Herm%C3%A8s%2314 Birkin%2025%232367-Birkin%2030%232366-Birkin%2035%238-Birkin%2040%232368 0\n",
      "540 Herm%C3%A8s%2314 Kelly%2025%232370-Kelly%2028%232371-Kelly%2032%239-Kelly%2035%232372 0\n",
      "600 Herm%C3%A8s%2314 Birkin%2025%232367-Birkin%2030%232366-Birkin%2035%238-Birkin%2040%232368 0\n",
      "600 Herm%C3%A8s%2314 Kelly%2025%232370-Kelly%2028%232371-Kelly%2032%239-Kelly%2035%232372 0\n",
      "660 Herm%C3%A8s%2314 Birkin%2025%232367-Birkin%2030%232366-Birkin%2035%238-Birkin%2040%232368 0\n",
      "660 Herm%C3%A8s%2314 Kelly%2025%232370-Kelly%2028%232371-Kelly%2032%239-Kelly%2035%232372 0\n",
      "720 Herm%C3%A8s%2314 Birkin%2025%232367-Birkin%2030%232366-Birkin%2035%238-Birkin%2040%232368 0\n",
      "720 Herm%C3%A8s%2314 Kelly%2025%232370-Kelly%2028%232371-Kelly%2032%239-Kelly%2035%232372 0\n",
      "780 Herm%C3%A8s%2314 Birkin%2025%232367-Birkin%2030%232366-Birkin%2035%238-Birkin%2040%232368 0\n",
      "780 Herm%C3%A8s%2314 Kelly%2025%232370-Kelly%2028%232371-Kelly%2032%239-Kelly%2035%232372 0\n",
      "840 Herm%C3%A8s%2314 Birkin%2025%232367-Birkin%2030%232366-Birkin%2035%238-Birkin%2040%232368 0\n",
      "840 Herm%C3%A8s%2314 Kelly%2025%232370-Kelly%2028%232371-Kelly%2032%239-Kelly%2035%232372 0\n",
      "900 Herm%C3%A8s%2314 Birkin%2025%232367-Birkin%2030%232366-Birkin%2035%238-Birkin%2040%232368 0\n",
      "900 Herm%C3%A8s%2314 Kelly%2025%232370-Kelly%2028%232371-Kelly%2032%239-Kelly%2035%232372 0\n",
      "960 Herm%C3%A8s%2314 Birkin%2025%232367-Birkin%2030%232366-Birkin%2035%238-Birkin%2040%232368 0\n",
      "960 Herm%C3%A8s%2314 Kelly%2025%232370-Kelly%2028%232371-Kelly%2032%239-Kelly%2035%232372 0\n",
      "0 Herm%C3%A8s%2314 Birkin%2025%232367-Birkin%2030%232366-Birkin%2035%238-Birkin%2040%232368 1\n",
      "0 Herm%C3%A8s%2314 Kelly%2025%232370-Kelly%2028%232371-Kelly%2032%239-Kelly%2035%232372 1\n",
      "60 Herm%C3%A8s%2314 Birkin%2025%232367-Birkin%2030%232366-Birkin%2035%238-Birkin%2040%232368 1\n",
      "60 Herm%C3%A8s%2314 Kelly%2025%232370-Kelly%2028%232371-Kelly%2032%239-Kelly%2035%232372 1\n",
      "120 Herm%C3%A8s%2314 Birkin%2025%232367-Birkin%2030%232366-Birkin%2035%238-Birkin%2040%232368 1\n",
      "120 Herm%C3%A8s%2314 Kelly%2025%232370-Kelly%2028%232371-Kelly%2032%239-Kelly%2035%232372 1\n",
      "180 Herm%C3%A8s%2314 Birkin%2025%232367-Birkin%2030%232366-Birkin%2035%238-Birkin%2040%232368 1\n",
      "180 Herm%C3%A8s%2314 Kelly%2025%232370-Kelly%2028%232371-Kelly%2032%239-Kelly%2035%232372 1\n",
      "240 Herm%C3%A8s%2314 Birkin%2025%232367-Birkin%2030%232366-Birkin%2035%238-Birkin%2040%232368 1\n",
      "240 Herm%C3%A8s%2314 Kelly%2025%232370-Kelly%2028%232371-Kelly%2032%239-Kelly%2035%232372 1\n",
      "300 Herm%C3%A8s%2314 Birkin%2025%232367-Birkin%2030%232366-Birkin%2035%238-Birkin%2040%232368 1\n",
      "300 Herm%C3%A8s%2314 Kelly%2025%232370-Kelly%2028%232371-Kelly%2032%239-Kelly%2035%232372 1\n",
      "360 Herm%C3%A8s%2314 Birkin%2025%232367-Birkin%2030%232366-Birkin%2035%238-Birkin%2040%232368 1\n",
      "360 Herm%C3%A8s%2314 Kelly%2025%232370-Kelly%2028%232371-Kelly%2032%239-Kelly%2035%232372 1\n",
      "420 Herm%C3%A8s%2314 Birkin%2025%232367-Birkin%2030%232366-Birkin%2035%238-Birkin%2040%232368 1\n",
      "420 Herm%C3%A8s%2314 Kelly%2025%232370-Kelly%2028%232371-Kelly%2032%239-Kelly%2035%232372 1\n",
      "480 Herm%C3%A8s%2314 Birkin%2025%232367-Birkin%2030%232366-Birkin%2035%238-Birkin%2040%232368 1\n",
      "480 Herm%C3%A8s%2314 Kelly%2025%232370-Kelly%2028%232371-Kelly%2032%239-Kelly%2035%232372 1\n",
      "540 Herm%C3%A8s%2314 Birkin%2025%232367-Birkin%2030%232366-Birkin%2035%238-Birkin%2040%232368 1\n",
      "540 Herm%C3%A8s%2314 Kelly%2025%232370-Kelly%2028%232371-Kelly%2032%239-Kelly%2035%232372 1\n",
      "600 Herm%C3%A8s%2314 Birkin%2025%232367-Birkin%2030%232366-Birkin%2035%238-Birkin%2040%232368 1\n",
      "600 Herm%C3%A8s%2314 Kelly%2025%232370-Kelly%2028%232371-Kelly%2032%239-Kelly%2035%232372 1\n",
      "660 Herm%C3%A8s%2314 Birkin%2025%232367-Birkin%2030%232366-Birkin%2035%238-Birkin%2040%232368 1\n",
      "660 Herm%C3%A8s%2314 Kelly%2025%232370-Kelly%2028%232371-Kelly%2032%239-Kelly%2035%232372 1\n",
      "720 Herm%C3%A8s%2314 Birkin%2025%232367-Birkin%2030%232366-Birkin%2035%238-Birkin%2040%232368 1\n",
      "720 Herm%C3%A8s%2314 Kelly%2025%232370-Kelly%2028%232371-Kelly%2032%239-Kelly%2035%232372 1\n",
      "780 Herm%C3%A8s%2314 Birkin%2025%232367-Birkin%2030%232366-Birkin%2035%238-Birkin%2040%232368 1\n",
      "780 Herm%C3%A8s%2314 Kelly%2025%232370-Kelly%2028%232371-Kelly%2032%239-Kelly%2035%232372 1\n",
      "840 Herm%C3%A8s%2314 Birkin%2025%232367-Birkin%2030%232366-Birkin%2035%238-Birkin%2040%232368 1\n",
      "840 Herm%C3%A8s%2314 Kelly%2025%232370-Kelly%2028%232371-Kelly%2032%239-Kelly%2035%232372 1\n",
      "900 Herm%C3%A8s%2314 Birkin%2025%232367-Birkin%2030%232366-Birkin%2035%238-Birkin%2040%232368 1\n",
      "900 Herm%C3%A8s%2314 Kelly%2025%232370-Kelly%2028%232371-Kelly%2032%239-Kelly%2035%232372 1\n",
      "960 Herm%C3%A8s%2314 Birkin%2025%232367-Birkin%2030%232366-Birkin%2035%238-Birkin%2040%232368 1\n",
      "960 Herm%C3%A8s%2314 Kelly%2025%232370-Kelly%2028%232371-Kelly%2032%239-Kelly%2035%232372 1\n"
     ]
    }
   ],
   "source": [
    "# example check how it gathers the data\n",
    "\n",
    "brands = ['Louis%20Vuitton%2317', 'Chanel%2350',  'Herm%C3%A8s%2314']\n",
    "models_lv = ['Speedy%2313-Speedy%20Bandouli%C3%A8re%232089', 'Neverfull%2315', 'Alma%20BB%232060-Alma%2314-No%C3%A9%23145']\n",
    "models_cc = ['Wallet%20on%20Chain%23883', 'Timeless%2FClassique%233', 'Boy%234', '2.55%232']\n",
    "models_h = ['Birkin%2025%232367-Birkin%2030%232366-Birkin%2035%238-Birkin%2040%232368', 'Kelly%2025%232370-Kelly%2028%232371-Kelly%2032%239-Kelly%2035%232372']\n",
    "sold = [0, 1]\n",
    "\n",
    "max_results_per_brand = 1010\n",
    "\n",
    "url_template = \"https://www.vestiairecollective.com/women-bags/handbags/p-{}/#brand={}_model={}_sold={}\"\n",
    "\n",
    "\n",
    "results = []\n",
    "sold_out = []\n",
    "\n",
    "for i, brand in enumerate(brands):\n",
    "    for s in sold:\n",
    "        for p in range(0, max_results_per_brand, 60):\n",
    "            if i == 0:\n",
    "                for model in models_lv:\n",
    "                    print(p, brand, model, s)\n",
    "            if i == 1:\n",
    "                for model in models_cc:\n",
    "                    print(p, brand, model, s)\n",
    "            if i == 2:\n",
    "                for model in models_h:\n",
    "                    print(p, brand, model, s)"
   ]
  },
  {
   "cell_type": "code",
   "execution_count": null,
   "metadata": {},
   "outputs": [],
   "source": [
    "# Web scrape from Vestiare Collective webpage:\n",
    "# Use for loops to get the results of each brand in a list, up to 1010 rows for each model types for certain brand ,\n",
    "# dividing on sold out and online products\n",
    "\n",
    "brands = ['Louis%20Vuitton%2317', 'Chanel%2350',  'Herm%C3%A8s%2314']\n",
    "models_lv = ['Speedy%2313-Speedy%20Bandouli%C3%A8re%232089', 'Neverfull%2315', 'Alma%20BB%232060-Alma%2314-No%C3%A9%23145']\n",
    "models_cc = ['Wallet%20on%20Chain%23883', 'Timeless%2FClassique%233', 'Boy%234', '2.55%232']\n",
    "models_h = ['Birkin%2025%232367-Birkin%2030%232366-Birkin%2035%238-Birkin%2040%232368', 'Kelly%2025%232370-Kelly%2028%232371-Kelly%2032%239-Kelly%2035%232372']\n",
    "sold = [0, 1]\n",
    "\n",
    "max_results_per_brand = 1010\n",
    "\n",
    "url_template = \"https://www.vestiairecollective.com/women-bags/handbags/p-{}/#brand={}_model={}_sold={}\"\n",
    "\n",
    "# Additional url for extracting limited editions bags only for one brand but various models\n",
    "# url_limited = \"https://www.vestiairecollective.com/search/?q=limited#gender=Women%231_category=Bags%235%20%3E%20Clutch%20bags%2357-Bags%235%20%3E%20Handbags%2359-Bags%235%20%3E%20Travel%20bags%23527_categoryParent=Bags%235_brand=Louis%20Vuitton%2317_model=Alma%20Graffiti%236258-Alma%20BB%232060-Alma%2314-Capucines%23303-Metis%232062-Neverfull%2315-N%C3%A9oNo%C3%A9%20BB%234230-N%C3%A9oNo%C3%A9%232225-Onthego%234324-Pochette%20Accessoire%232049-Twist%23364-Speedy%2313-Speedy%20Bandouli%C3%A8re%232089-Speedy%20time%20trunk%232991-Keepall%2317\"\n",
    "\n",
    "results = []\n",
    "\n",
    "for i, brand in enumerate(brands):\n",
    "    for s in sold:\n",
    "        for p in range(0, max_results_per_brand, 60):\n",
    "# Make an if statement to pull the webpages for the first brand (which is Louis Vuitton) in our brands list            \n",
    "            if i == 0:\n",
    "                for model in models_lv:\n",
    "                    r = requests.get(url_template.format(p, brand, model, s))\n",
    "                    soup = BeautifulSoup(r.text, 'shtml.parser')\n",
    "                    if soup.find('title').text == 'hCaptcha solve page':\n",
    "                        break\n",
    "                    for result in soup.find_all(name=\"div\", attrs={\"class\":\"row\"}):\n",
    "                        results.append(result)\n",
    "                    time.sleep(5)\n",
    "# Make an if statement to pull the webpages for the second brand (which is Chanel) in our brands list\n",
    "            if i == 1:\n",
    "                for model in models_cc:\n",
    "                    r = requests.get(url_template.format(p, brand, model, s))\n",
    "                    soup = BeautifulSoup(r.text, 'shtml.parser')\n",
    "                    if soup.find('title').text == 'hCaptcha solve page':\n",
    "                        break\n",
    "                    for result in soup.find_all(name=\"div\", attrs={\"class\":\"row\"}):\n",
    "                        results.append(result)\n",
    "                    time.sleep(5)\n",
    "# Make third if statement to pull the webpages for the third brand (which is Hermes) in our brands list\n",
    "            if i == 2:\n",
    "                for model in models_h:\n",
    "                    r = requests.get(url_template.format(p, brand, model, s))\n",
    "                    soup = BeautifulSoup(r.text, 'shtml.parser')\n",
    "                    if soup.find('title').text == 'hCaptcha solve page':\n",
    "                        break\n",
    "                    for result in soup.find_all(name=\"div\", attrs={\"class\":\"row\"}):\n",
    "                        results.append(result)\n",
    "                    time.sleep(5)          \n",
    "            "
   ]
  },
  {
   "cell_type": "code",
   "execution_count": null,
   "metadata": {},
   "outputs": [],
   "source": [
    "# This for loop runs through each url and pulls from the unique web page the full description, model type,\n",
    "# condition, material and color for each bag.\n",
    "\n",
    "descriptions = []\n",
    "conditions = []\n",
    "modelss = []\n",
    "colors = []\n",
    "materials = []\n",
    "\n",
    "urls = [extract_url(result) for result in results]\n",
    "certain_m = ['2.55', 'Wallet', 'Timeless', 'Kelly', 'Birkin']\n",
    "\n",
    "for url in urls:\n",
    "    time.sleep(2)\n",
    "    r=requests.get(url)\n",
    "    soup=BeautifulSoup(r.text,'shtml.parser')\n",
    "    temp = []\n",
    "    if soup.find('title').text == 'hCaptcha solve page':\n",
    "        print(soup.find('title').text)\n",
    "        break \n",
    "    try: \n",
    "        for li in soup.find_all('li'):\n",
    "            temp.append(li.text.strip().split('\\n'))\n",
    "            conditions.append(temp[6][0])\n",
    "            modelss.append(temp[5][0])\n",
    "            colors.append(temp[8][0])\n",
    "            materials.append(temp[7][0])\n",
    "    except:\n",
    "        conditions.append(np.nan)\n",
    "        modelss.append(np.nan)\n",
    "        colors.append(np.nan)\n",
    "        materials.append(np.nan)\n",
    "# Extracting Description for cetain handbags to use if for later predictions if needed / \n",
    "# after manually checking webpages , I noticed that other models that are not in certain_m list, were not that informative  \n",
    "    for m in certain_m:\n",
    "        if certain_m in url:\n",
    "            try:\n",
    "                descriptions.append((url,soup.find('div', attrs={'class':\"sellerDescription__action\"}).text))\n",
    "            except:\n",
    "                descriptions.append(np.nan)\n",
    "\n"
   ]
  },
  {
   "cell_type": "code",
   "execution_count": null,
   "metadata": {},
   "outputs": [],
   "source": [
    "# Forming dataframe with Dictionary comprehension list with the function's output\n",
    "dictionary = [{'brand': extract_brand_name(result), 'title': extract_title(result), 'url': extract_url(result),\n",
    "               'price_range': extract_price(result), 'n_likes': extract_likes(result), \n",
    "               'sold_out': extract_sold_out(result)} for result in results]\n",
    "\n",
    "\n",
    "df = pd.DataFrame(dictionary)\n",
    "# Create new column and assign all values to 0\n",
    "df['limited'] = 0 \n",
    "\n",
    "# First 942 rows are limited editions, assign this subset with 1 \n",
    "df.iloc[0:943][\"limited\"] = 1"
   ]
  },
  {
   "cell_type": "code",
   "execution_count": null,
   "metadata": {},
   "outputs": [],
   "source": [
    "# Create separate dataframe of Information for each bag \n",
    "df_bag_page = pd.DataFrame(descriptions, columns = ['url','description'])\n",
    "df_bag_page['condition'] = conditions\n",
    "df_bag_page['m_model'] = modelss\n",
    "df_bag_page['color'] = colors\n",
    "df_bag_page['material'] = materials\n",
    "    \n",
    "\n",
    "# merge two dataframes on url column to include all columns \n",
    "merged_df = pd.merge(df, df_bag_page, how='outer', on='url')\n",
    "\n",
    "# dropping duplicates and reset index\n",
    "merged_df.drop_duplicates(keep=\"first\", inplace=True).reset_index(drop=True)\n",
    "\n",
    "# Create a few new columns for further data munging and cleaning, position it in desired order\n",
    "merged_df.insert(4, 'price', np.nan)\n",
    "merged_df.insert(5, 'discount_price', np.nan)\n",
    "merged_df.insert(7, 'model', np.nan)\n",
    "merged_df.insert(11, 'material', np.nan)\n",
    "\n",
    "# drop url column after merging datasets (no use for futher analysis and building the model)\n",
    "merged_df.drop(['url'], axis=1, inplace=True)\n",
    "\n",
    "# Save to csv preprocessed dataset\n",
    "merged_df.to_csv(\"preview.csv\", index = False)"
   ]
  },
  {
   "cell_type": "markdown",
   "metadata": {},
   "source": [
    "## Additional hard coding column - Mean Retail Price\n",
    "\n",
    "I want to add official retail prices of each model for each brand, grouped by model, type of the material the handbag made of and whether it's limited edition if relevant. \n",
    "\n",
    "I've made a research for each model I extracted with Beautiful Soup, and because this data is spread out on many sites or absent on official store website, I've found some missing values in public magazine articles, and decided to get the prices manually. So I assigned for each model its Mean Retail Price and rounded it."
   ]
  },
  {
   "cell_type": "code",
   "execution_count": null,
   "metadata": {},
   "outputs": [],
   "source": [
    "# Calculate Mean Retail Prices or have a certain price \n",
    "\n",
    "# LV models\n",
    "Speedy = round((830+ 820)/2)\n",
    "Speedy_B = round((1120 + 1100 + 1140 )/3)\n",
    "Speedy_lim = round((1540 +1630+ 1750+ 1540+ 2740 +1540)/6)\n",
    "Speedy_py = 5800\n",
    "Speedy_ost = 10200\n",
    "Neverfull = round((1120+ 1070+ 1020)/3)\n",
    "Neverfull_lim = 1510\n",
    "Neverfull_ali = 17300\n",
    "Alma_cl= round((1160 +1400)/2) \n",
    "Alma_l= round((1570+ 1770)/2) \n",
    "Alma_lim = round((1850+1770)/2) \n",
    "Alma_bb = 1030\n",
    "Alma_graf = 1640\n",
    "Alma_bb_l = round((1190 +1370) /2)\n",
    "Alma_bb_lim = round((1470 +1570)/2)\n",
    "Alma_bb_ali = 13200\n",
    "Pochette = round((385+ 495)/2) \n",
    "Pochette_lim = round((570 + 1100)/2)\n",
    "Keepall = 1850\n",
    "Capucines = 3950\n",
    "Capucines_lim = 6900\n",
    "Capucines_ali = 21900\n",
    "Twist = 2600\n",
    "Twist_py = 5800\n",
    "NéoNoé_bb = round((1590 +1690)/2)\n",
    "NéoNoé_lim = round((1590+ 1590+1960+ 1670 +1610+ 1780+ 1420)/ 7 )\n",
    "Onthego = round((1780 + 1880)/2) \n",
    "Onthego_lim = round((2280 +2800 +1920+ 1920+ 2050 +2370+ 2140+ 2610+ 2060 +2420+ 2620 )/ 11)\n",
    "Metis_lim = round((1670+1670+ 1770+ 1860 )/4)\n",
    "\n",
    "# Hermes\n",
    "Kelly_25 = round((6800+ 6350+ 6650) /3)\n",
    "Kelly_25_ost = 15300\n",
    "Kelly_25_liz = 13800\n",
    "Kelly_25_ali = 20300\n",
    "Kelly_25_ali_h = 28900\n",
    "Kelly_28 = round((6940+7280 )/2)\n",
    "Kelly_28_ost = 15300\n",
    "Kelly_28_ali = 28900\n",
    "Kelly_32 = round((6800 +7050)/2)\n",
    "Kelly_32_liz = 6600\n",
    "Kelly_35 = 7150\n",
    "Kelly_35_ost = 15400\n",
    "Kelly_35_ali = 28900\n",
    "Birkin_25 = round((6570 +6410)/2)\n",
    "Birkin_25_ost = 13800\n",
    "Birkin_25_ali = 20300\n",
    "Birkin_25_ali_h = 28900\n",
    "Birkin_30 = round((7510 + 8600 +7700)/3)\n",
    "Birkin_30_ost = 13800\n",
    "Birkin_30_ali = 28900\n",
    "Birkin_35 = round((8300+7100)/2)\n",
    "Birkin_35_ost = 15400\n",
    "Birkin_35_ali = 28900\n",
    "Birkin_40 = round((8770+ 9250)/2)\n",
    "Birkin_40_ost = 15400\n",
    "Birkin_40_ali = 28900\n",
    "\n",
    "\n",
    "# Chanel \n",
    "Timeless_Classique = 4340\n",
    "Timeless_Classique_h = 5800\n",
    "Timeless_Classique_exot = 8040\n",
    "Timeless_Classique_ali = 27600\n",
    "Boy = round((2620+3200+2840+3480+2740+3890+2690+4170+3890)/9)\n",
    "Boy_exotic = 5400\n",
    "Boy_ali = 22000\n",
    "Woc = round((2060 +1790 + 1120 +990)/4)\n",
    "two_55 = round((5040 +4830+ 5550+5300)/4)\n",
    "two_55_ali = 14200\n",
    "\n",
    "# bags['mean_retail_price'] = np.nan"
   ]
  },
  {
   "cell_type": "code",
   "execution_count": null,
   "metadata": {},
   "outputs": [],
   "source": [
    "# Assign values to the right models of each brand category\n",
    "\n",
    "bags.loc[(bags['limited'] == 0) & (bags['m_model'] == 'Model: Speedy'), 'mean_retail_price'] = Speedy\n",
    "bags.loc[(bags['m_model'] == 'Model: Speedy Bandoulière'), 'mean_retail_price'] = Speedy_lim\n",
    "bags.loc[(bags['m_model'] == 'Model: Speedy') & (bags['m_material'] == 'Material: Exotic leathers'), 'mean_retail_price'] = Speedy_py\n",
    "bags.loc[(bags['limited'] == 1) & (bags['m_model'] == 'Model: Speedy time trunk'), 'mean_retail_price'] = Speedy_t\n",
    "bags.iloc[71, 15] = Speedy_ost\n",
    "bags.iloc[3483, 15] = Neverfull_ali\n",
    "bags.loc[(bags['limited'] == 1) & (bags['m_model'] == 'Model: Neverfull'), 'mean_retail_price'] = Neverfull_lim\n",
    "bags.loc[(bags['m_model'] == 'Model: Neverfull'), 'mean_retail_price'] = Neverfull\n",
    "bags.loc[(bags['m_material'] == 'Material: Leather') & (bags['m_model'] == 'Model: Alma'), 'mean_retail_price'] = Alma_l\n",
    "bags.loc[(bags['limited'] == 1) & (bags['m_model'] == 'Model: Alma'), 'mean_retail_price'] = Alma_lim\n",
    "bags.loc[(bags['m_material'] == 'Material: Patent leather') & (bags['m_model'] == 'Model: Alma BB'), 'mean_retail_price'] = Alma_bb_l\n",
    "bags.loc[(bags['limited'] == 0) & (bags['m_model'] == 'Model: Capucines'), 'mean_retail_price'] = Capucines\n",
    "bags.loc[(bags['limited'] == 1) & (bags['m_model'] == 'Model: Capucines'), 'mean_retail_price'] = Capucines_lim\n",
    "bags.loc[(bags['m_material'] == 'Material: Exotic leathers') & (bags['m_model'] == 'Model: Capucines'), 'mean_retail_price'] = Capucines_ali\n",
    "bags.loc[(bags['price'] < 500) & (bags['m_model'] == 'Model: Pochette'), 'mean_retail_price'] = Pochette\n",
    "bags.loc[(bags['retail_price'].isnull()) & (bags['m_model'] == 'Model: Twist'), 'mean_retail_price'] = Twist\n",
    "bags.loc[(bags['m_material'] == 'Material: Exotic leathers') & (bags['m_model'] == 'Model: Twist'), 'mean_retail_price'] = Twist_py\n",
    "bags.loc[(bags['m_material'] == 'Material: Cloth') & (bags['m_model'] == 'Model: Pochette Accessoire'), 'mean_retail_price'] = Pochette\n",
    "bags.loc[(bags['limited'] == 1) & (bags['m_model'] == 'Model: Pochette'), 'mean_retail_price'] = Pochette_lim\n",
    "bags.loc[(bags['price'] > 500) & (bags['m_model'] == 'Model: Pochette'), 'mean_retail_price'] = Pochette_lim\n",
    "bags.loc[(bags['limited'] == 1) & (bags['m_model'] == 'Model: Metis'), 'mean_retail_price'] = Metis_lim\n",
    "bags.loc[(bags['m_model'] == 'Model: NéoNoé_bb'), 'mean_retail_price'] = NéoNoé_bb\n",
    "bags.loc[(bags['limited'] == 1) & (bags['m_model'] == 'Model: NéoNoé'), 'mean_retail_price'] = NéoNoé_lim\n",
    "\n",
    "bags.loc[(bags['m_model'] == 'Model: Kelly 25'), 'mean_retail_price'] = Kelly_25\n",
    "bags.loc[bags['title'] == 'Kelly 25 ostrich handbag', 'mean_retail_price'] = Kelly_25_ost\n",
    "bags.loc[bags['title'] == 'Kelly 25 alligator handbag', 'mean_retail_price'] = Kelly_25_ali\n",
    "bags.loc[(bags['title'] == 'Kelly 25 lizard handbag'), 'mean_retail_price'] = Kelly_25_liz\n",
    "bags.loc[(bags['title'] == 'Kelly 28 lizard handbag'), 'mean_retail_price'] = Kelly_28_liz\n",
    "bags.loc[bags['m_model'] == 'Model: Kelly 35', 'mean_retail_price'] = Kelly_35\n",
    "bags.loc[bags['title'] == 'Burgundy Lizard Handbag Kelly 20', 'mean_retail_price'] = Kelly_25\n",
    "bags.loc[(bags['m_material'] == 'Material: Exotic leathers') & (bags['m_model'] == 'Kelly 35'), 'mean_retail_price'] = Birkin_30_ali\n",
    "bags.loc[(bags['m_model'] == 'Model: Kelly 25'), 'mean_retail_price'] = Kelly_25\n",
    "bags.loc[bags['title'] == 'Kelly 32 alligator handbag', 'mean_retail_price'] = Kelly_32_ali\n",
    "bags.loc[bags['title'] == 'Kelly 35 alligator handbag', 'mean_retail_price'] = Kelly_35_ali\n",
    "bags.loc[bags['title'] == 'Birkin 30 ostrich handbag', 'mean_retail_price'] = Birkin_30_ost\n",
    "bags.loc[bags['title'] == 'Birkin 30 alligator handbag', 'mean_retail_price'] = Birkin_30_ali\n",
    "bags.loc[bags['title'] == 'Birkin 35 ostrich handbag', 'mean_retail_price'] = Birkin_35_ost\n",
    "bags.loc[bags['title'] == 'Birkin 35 alligator handbag', 'mean_retail_price'] = Birkin_35_ali\n",
    "bags.loc[(bags['m_model'] == 'Model: Birkin 40'), 'mean_retail_price'] = Birkin_40\n",
    "bags.loc[bags['title'] == 'Birkin 40 ostrich handbag', 'mean_retail_price'] = Birkin_40_ost\n",
    "bags.loc[bags['title'] == 'Birkin 40 alligator handbag', 'mean_retail_price'] = Birkin_40_ali\n",
    "\n",
    "bags.loc[(bags['m_model'] == 'Model: Boy'), 'retail_price'] = Boy\n",
    "bags.loc[(bags['m_material'] == 'Material: Exotic leathers') & (bags['m_model'] == 'Model: Boy'), 'retail_price'] = Boy_exotic\n",
    "bags.loc[(bags['title'] == 'Timeless/Classique alligator handbag'), 'retail_price'] = Timeless_Classique_ali\n",
    "bags.loc[(bags['price'] < 3600) & (bags['m_model'] == 'Model: Timeless/Classique'), 'retail_price'] = Timeless_Classique\n",
    "bags.loc[(bags['price'] > 3600) & (bags['m_model'] == 'Model: Timeless/Classique'), 'retail_price'] = Timeless_Classique_h\n",
    "bags.loc[(bags['m_material'] == 'Material: Exotic leathers') & (bags['m_model'] == 'Model: Timeless/Classique'), 'retail_price'] = Timeless_Classique_exot\n",
    "bags.loc[(bags['m_model'] == 'Model: 2.55'), 'retail_price'] = two_55\n",
    "bags.loc[(bags['m_material'] == 'Material: Exotic leathers') & (bags['m_model'] == 'Model: 2.55'), 'retail_price'] = two_55_ali\n",
    "bags.loc[(bags['m_model'] == 'Model: Woc') | (bags['m_model'] == 'Model: Wallet on Chain'), 'retail_price'] = Woc\n"
   ]
  },
  {
   "cell_type": "markdown",
   "metadata": {},
   "source": [
    "## Preliminary Data Munging and Cleaning"
   ]
  },
  {
   "cell_type": "code",
   "execution_count": 295,
   "metadata": {
    "ExecuteTime": {
     "end_time": "2021-04-25T13:49:03.422169Z",
     "start_time": "2021-04-25T13:49:03.325156Z"
    },
    "scrolled": true
   },
   "outputs": [
    {
     "data": {
      "text/html": [
       "<div>\n",
       "<style scoped>\n",
       "    .dataframe tbody tr th:only-of-type {\n",
       "        vertical-align: middle;\n",
       "    }\n",
       "\n",
       "    .dataframe tbody tr th {\n",
       "        vertical-align: top;\n",
       "    }\n",
       "\n",
       "    .dataframe thead th {\n",
       "        text-align: right;\n",
       "    }\n",
       "</style>\n",
       "<table border=\"1\" class=\"dataframe\">\n",
       "  <thead>\n",
       "    <tr style=\"text-align: right;\">\n",
       "      <th></th>\n",
       "      <th>brand</th>\n",
       "      <th>title</th>\n",
       "      <th>price_range</th>\n",
       "      <th>price</th>\n",
       "      <th>discount_price</th>\n",
       "      <th>n_likes</th>\n",
       "      <th>limited</th>\n",
       "      <th>model</th>\n",
       "      <th>condition</th>\n",
       "      <th>m_model</th>\n",
       "      <th>material</th>\n",
       "      <th>color</th>\n",
       "      <th>m_material</th>\n",
       "      <th>sold_out</th>\n",
       "      <th>description</th>\n",
       "      <th>mean_retail_price</th>\n",
       "    </tr>\n",
       "  </thead>\n",
       "  <tbody>\n",
       "    <tr>\n",
       "      <th>0</th>\n",
       "      <td>Louis Vuitton</td>\n",
       "      <td>Pochette Accessoire cloth clutch bag</td>\n",
       "      <td>£1,080 £776 £776</td>\n",
       "      <td>NaN</td>\n",
       "      <td>NaN</td>\n",
       "      <td>53.0</td>\n",
       "      <td>1</td>\n",
       "      <td>NaN</td>\n",
       "      <td>Never worn</td>\n",
       "      <td>Model: Pochette Accessoire</td>\n",
       "      <td>NaN</td>\n",
       "      <td>Color: Brown</td>\n",
       "      <td>Material: Cloth</td>\n",
       "      <td>1.0</td>\n",
       "      <td>NaN</td>\n",
       "      <td>660.0</td>\n",
       "    </tr>\n",
       "    <tr>\n",
       "      <th>1</th>\n",
       "      <td>Louis Vuitton</td>\n",
       "      <td>Pochette Accessoire cloth clutch bag</td>\n",
       "      <td>£495 £495</td>\n",
       "      <td>NaN</td>\n",
       "      <td>NaN</td>\n",
       "      <td>42.0</td>\n",
       "      <td>1</td>\n",
       "      <td>NaN</td>\n",
       "      <td>Never worn</td>\n",
       "      <td>Model: Pochette Accessoire</td>\n",
       "      <td>NaN</td>\n",
       "      <td>Color: Brown</td>\n",
       "      <td>Material: Cloth</td>\n",
       "      <td>1.0</td>\n",
       "      <td>NaN</td>\n",
       "      <td>660.0</td>\n",
       "    </tr>\n",
       "    <tr>\n",
       "      <th>2</th>\n",
       "      <td>Louis Vuitton</td>\n",
       "      <td>Speedy cloth handbag</td>\n",
       "      <td>£1,480 £1480</td>\n",
       "      <td>NaN</td>\n",
       "      <td>NaN</td>\n",
       "      <td>52.0</td>\n",
       "      <td>1</td>\n",
       "      <td>NaN</td>\n",
       "      <td>Never worn</td>\n",
       "      <td>Model: Speedy</td>\n",
       "      <td>NaN</td>\n",
       "      <td>Color: Pink</td>\n",
       "      <td>Material: Cloth</td>\n",
       "      <td>1.0</td>\n",
       "      <td>NaN</td>\n",
       "      <td>1790.0</td>\n",
       "    </tr>\n",
       "    <tr>\n",
       "      <th>3</th>\n",
       "      <td>Louis Vuitton</td>\n",
       "      <td>Speedy cloth handbag</td>\n",
       "      <td>£1,880 £1880</td>\n",
       "      <td>NaN</td>\n",
       "      <td>NaN</td>\n",
       "      <td>59.0</td>\n",
       "      <td>1</td>\n",
       "      <td>NaN</td>\n",
       "      <td>Very good condition</td>\n",
       "      <td>Model: Speedy</td>\n",
       "      <td>NaN</td>\n",
       "      <td>Color: White</td>\n",
       "      <td>Material: Cloth</td>\n",
       "      <td>1.0</td>\n",
       "      <td>NaN</td>\n",
       "      <td>1790.0</td>\n",
       "    </tr>\n",
       "    <tr>\n",
       "      <th>4</th>\n",
       "      <td>Louis Vuitton</td>\n",
       "      <td>Speedy cloth handbag</td>\n",
       "      <td>£1,850 £1,680 £1680</td>\n",
       "      <td>NaN</td>\n",
       "      <td>NaN</td>\n",
       "      <td>60.0</td>\n",
       "      <td>1</td>\n",
       "      <td>NaN</td>\n",
       "      <td>Very good condition</td>\n",
       "      <td>Model: Speedy</td>\n",
       "      <td>NaN</td>\n",
       "      <td>Color: Red</td>\n",
       "      <td>Material: Cloth</td>\n",
       "      <td>1.0</td>\n",
       "      <td>NaN</td>\n",
       "      <td>1790.0</td>\n",
       "    </tr>\n",
       "  </tbody>\n",
       "</table>\n",
       "</div>"
      ],
      "text/plain": [
       "           brand                                 title          price_range  \\\n",
       "0  Louis Vuitton  Pochette Accessoire cloth clutch bag     £1,080 £776 £776   \n",
       "1  Louis Vuitton  Pochette Accessoire cloth clutch bag            £495 £495   \n",
       "2  Louis Vuitton                  Speedy cloth handbag         £1,480 £1480   \n",
       "3  Louis Vuitton                  Speedy cloth handbag         £1,880 £1880   \n",
       "4  Louis Vuitton                  Speedy cloth handbag  £1,850 £1,680 £1680   \n",
       "\n",
       "   price  discount_price  n_likes  limited  model            condition  \\\n",
       "0    NaN             NaN     53.0        1    NaN           Never worn   \n",
       "1    NaN             NaN     42.0        1    NaN           Never worn   \n",
       "2    NaN             NaN     52.0        1    NaN           Never worn   \n",
       "3    NaN             NaN     59.0        1    NaN  Very good condition   \n",
       "4    NaN             NaN     60.0        1    NaN  Very good condition   \n",
       "\n",
       "                      m_model  material         color       m_material  \\\n",
       "0  Model: Pochette Accessoire       NaN  Color: Brown  Material: Cloth   \n",
       "1  Model: Pochette Accessoire       NaN  Color: Brown  Material: Cloth   \n",
       "2               Model: Speedy       NaN   Color: Pink  Material: Cloth   \n",
       "3               Model: Speedy       NaN  Color: White  Material: Cloth   \n",
       "4               Model: Speedy       NaN    Color: Red  Material: Cloth   \n",
       "\n",
       "   sold_out description  mean_retail_price  \n",
       "0       1.0         NaN              660.0  \n",
       "1       1.0         NaN              660.0  \n",
       "2       1.0         NaN             1790.0  \n",
       "3       1.0         NaN             1790.0  \n",
       "4       1.0         NaN             1790.0  "
      ]
     },
     "execution_count": 295,
     "metadata": {},
     "output_type": "execute_result"
    }
   ],
   "source": [
    "# Read previously created file and review the first 5 rows of dataframe\n",
    "bags = pd.read_csv('preview.csv')\n",
    "bags.head()"
   ]
  },
  {
   "cell_type": "code",
   "execution_count": 296,
   "metadata": {
    "ExecuteTime": {
     "end_time": "2021-04-25T13:49:03.527251Z",
     "start_time": "2021-04-25T13:49:03.508792Z"
    },
    "scrolled": false
   },
   "outputs": [
    {
     "name": "stdout",
     "output_type": "stream",
     "text": [
      "<class 'pandas.core.frame.DataFrame'>\n",
      "RangeIndex: 12916 entries, 0 to 12915\n",
      "Data columns (total 16 columns):\n",
      " #   Column             Non-Null Count  Dtype  \n",
      "---  ------             --------------  -----  \n",
      " 0   brand              12308 non-null  object \n",
      " 1   title              12916 non-null  object \n",
      " 2   price_range        12916 non-null  object \n",
      " 3   price              0 non-null      float64\n",
      " 4   discount_price     0 non-null      float64\n",
      " 5   n_likes            12916 non-null  float64\n",
      " 6   limited            12916 non-null  int64  \n",
      " 7   model              0 non-null      float64\n",
      " 8   condition          12916 non-null  object \n",
      " 9   m_model            12292 non-null  object \n",
      " 10  material           0 non-null      float64\n",
      " 11  color              12916 non-null  object \n",
      " 12  m_material         12916 non-null  object \n",
      " 13  sold_out           12916 non-null  float64\n",
      " 14  description        5127 non-null   object \n",
      " 15  mean_retail_price  12774 non-null  float64\n",
      "dtypes: float64(7), int64(1), object(8)\n",
      "memory usage: 1.6+ MB\n"
     ]
    }
   ],
   "source": [
    "# defining information about our data, checking types and non-null values\n",
    "bags.info()"
   ]
  },
  {
   "cell_type": "code",
   "execution_count": 297,
   "metadata": {
    "ExecuteTime": {
     "end_time": "2021-04-25T13:49:03.676153Z",
     "start_time": "2021-04-25T13:49:03.670270Z"
    }
   },
   "outputs": [],
   "source": [
    "# Assing null values in brand column to fix it later on\n",
    "bags.loc[bags['brand'].isnull(), 'brand'] = bags['title']"
   ]
  },
  {
   "cell_type": "code",
   "execution_count": 298,
   "metadata": {
    "ExecuteTime": {
     "end_time": "2021-04-25T13:49:03.837281Z",
     "start_time": "2021-04-25T13:49:03.825852Z"
    }
   },
   "outputs": [
    {
     "data": {
      "text/html": [
       "<div>\n",
       "<style scoped>\n",
       "    .dataframe tbody tr th:only-of-type {\n",
       "        vertical-align: middle;\n",
       "    }\n",
       "\n",
       "    .dataframe tbody tr th {\n",
       "        vertical-align: top;\n",
       "    }\n",
       "\n",
       "    .dataframe thead th {\n",
       "        text-align: right;\n",
       "    }\n",
       "</style>\n",
       "<table border=\"1\" class=\"dataframe\">\n",
       "  <thead>\n",
       "    <tr style=\"text-align: right;\">\n",
       "      <th></th>\n",
       "      <th>brand</th>\n",
       "      <th>title</th>\n",
       "      <th>price_range</th>\n",
       "      <th>price</th>\n",
       "      <th>discount_price</th>\n",
       "      <th>n_likes</th>\n",
       "      <th>limited</th>\n",
       "      <th>model</th>\n",
       "      <th>condition</th>\n",
       "      <th>m_model</th>\n",
       "      <th>material</th>\n",
       "      <th>color</th>\n",
       "      <th>m_material</th>\n",
       "      <th>sold_out</th>\n",
       "      <th>description</th>\n",
       "      <th>mean_retail_price</th>\n",
       "    </tr>\n",
       "  </thead>\n",
       "  <tbody>\n",
       "  </tbody>\n",
       "</table>\n",
       "</div>"
      ],
      "text/plain": [
       "Empty DataFrame\n",
       "Columns: [brand, title, price_range, price, discount_price, n_likes, limited, model, condition, m_model, material, color, m_material, sold_out, description, mean_retail_price]\n",
       "Index: []"
      ]
     },
     "execution_count": 298,
     "metadata": {},
     "output_type": "execute_result"
    }
   ],
   "source": [
    "# check if any nan values has left\n",
    "bags[bags.brand.isnull()]"
   ]
  },
  {
   "cell_type": "code",
   "execution_count": 299,
   "metadata": {
    "ExecuteTime": {
     "end_time": "2021-04-25T13:49:03.992198Z",
     "start_time": "2021-04-25T13:49:03.982733Z"
    }
   },
   "outputs": [
    {
     "data": {
      "text/plain": [
       "array(['Color: Brown', 'Color: Pink', 'Color: White', 'Color: Red',\n",
       "       'Color: Camel', 'Color: Multicolour', 'Color: Orange',\n",
       "       'Color: Blue', 'Color: Anthracite', 'Color: Purple', 'Color: Ecru',\n",
       "       'Color: Green', 'Color: Black', 'Color: Burgundy', 'Color: Other',\n",
       "       'Color: Beige', 'Color: Silver', 'Color: Navy', 'Color: Khaki',\n",
       "       'Color: Gold', 'Color: Yellow', 'Color: Metallic', 'Color: Grey',\n",
       "       'Location:France,\\n          from\\n          the seller Vestiaire Collective',\n",
       "       'Color: Turquoise',\n",
       "       'Location:United States,\\n          from\\n          the seller willow',\n",
       "       'Color: brown/black',\n",
       "       'Location:Italy,\\n          from\\n          the seller ludovica',\n",
       "       'Color: camel'], dtype=object)"
      ]
     },
     "execution_count": 299,
     "metadata": {},
     "output_type": "execute_result"
    }
   ],
   "source": [
    "# Check the valid inputs in column\n",
    "bags.color.unique()"
   ]
  },
  {
   "cell_type": "code",
   "execution_count": 300,
   "metadata": {
    "ExecuteTime": {
     "end_time": "2021-04-25T13:49:04.167532Z",
     "start_time": "2021-04-25T13:49:04.137287Z"
    }
   },
   "outputs": [
    {
     "data": {
      "text/html": [
       "<div>\n",
       "<style scoped>\n",
       "    .dataframe tbody tr th:only-of-type {\n",
       "        vertical-align: middle;\n",
       "    }\n",
       "\n",
       "    .dataframe tbody tr th {\n",
       "        vertical-align: top;\n",
       "    }\n",
       "\n",
       "    .dataframe thead th {\n",
       "        text-align: right;\n",
       "    }\n",
       "</style>\n",
       "<table border=\"1\" class=\"dataframe\">\n",
       "  <thead>\n",
       "    <tr style=\"text-align: right;\">\n",
       "      <th></th>\n",
       "      <th>brand</th>\n",
       "      <th>title</th>\n",
       "      <th>price_range</th>\n",
       "      <th>price</th>\n",
       "      <th>discount_price</th>\n",
       "      <th>n_likes</th>\n",
       "      <th>limited</th>\n",
       "      <th>model</th>\n",
       "      <th>condition</th>\n",
       "      <th>m_model</th>\n",
       "      <th>material</th>\n",
       "      <th>color</th>\n",
       "      <th>m_material</th>\n",
       "      <th>sold_out</th>\n",
       "      <th>description</th>\n",
       "      <th>mean_retail_price</th>\n",
       "    </tr>\n",
       "  </thead>\n",
       "  <tbody>\n",
       "    <tr>\n",
       "      <th>3881</th>\n",
       "      <td>Louis Vuitton</td>\n",
       "      <td>Neverfull cloth tote</td>\n",
       "      <td>£659 £523.16 £523.16</td>\n",
       "      <td>NaN</td>\n",
       "      <td>NaN</td>\n",
       "      <td>64.0</td>\n",
       "      <td>0</td>\n",
       "      <td>NaN</td>\n",
       "      <td>Good condition</td>\n",
       "      <td>Model: Neverfull</td>\n",
       "      <td>NaN</td>\n",
       "      <td>Location:France,\\n          from\\n          th...</td>\n",
       "      <td>Material: Cloth</td>\n",
       "      <td>1.0</td>\n",
       "      <td>NaN</td>\n",
       "      <td>1070.0</td>\n",
       "    </tr>\n",
       "    <tr>\n",
       "      <th>5591</th>\n",
       "      <td>Louis Vuitton</td>\n",
       "      <td>Alma patent leather handbag - Grayish Blue</td>\n",
       "      <td>£914.12 £837.94 £837.94</td>\n",
       "      <td>NaN</td>\n",
       "      <td>NaN</td>\n",
       "      <td>29.0</td>\n",
       "      <td>0</td>\n",
       "      <td>NaN</td>\n",
       "      <td>Very good condition</td>\n",
       "      <td>Model: Alma</td>\n",
       "      <td>NaN</td>\n",
       "      <td>Location:United States,\\n          from\\n     ...</td>\n",
       "      <td>Material: Patent leather</td>\n",
       "      <td>1.0</td>\n",
       "      <td>NaN</td>\n",
       "      <td>1670.0</td>\n",
       "    </tr>\n",
       "    <tr>\n",
       "      <th>10856</th>\n",
       "      <td>Hermès</td>\n",
       "      <td>Kelly 32 leather handbag</td>\n",
       "      <td>£5,164.72 £5164.72</td>\n",
       "      <td>NaN</td>\n",
       "      <td>NaN</td>\n",
       "      <td>20.0</td>\n",
       "      <td>0</td>\n",
       "      <td>NaN</td>\n",
       "      <td>Good condition</td>\n",
       "      <td>Model: Kelly 32</td>\n",
       "      <td>NaN</td>\n",
       "      <td>Location:Italy,\\n          from\\n          the...</td>\n",
       "      <td>Material: Leather</td>\n",
       "      <td>1.0</td>\n",
       "      <td>Kelly 32 handbag in dark taupe Togo leather, e...</td>\n",
       "      <td>6925.0</td>\n",
       "    </tr>\n",
       "    <tr>\n",
       "      <th>12428</th>\n",
       "      <td>Hermès</td>\n",
       "      <td>Leather Handbag Birkin 40</td>\n",
       "      <td>£6,350.14 £6350.14</td>\n",
       "      <td>NaN</td>\n",
       "      <td>NaN</td>\n",
       "      <td>46.0</td>\n",
       "      <td>0</td>\n",
       "      <td>NaN</td>\n",
       "      <td>Very good condition</td>\n",
       "      <td>Model: Birkin 40</td>\n",
       "      <td>NaN</td>\n",
       "      <td>Location:France,\\n          from\\n          th...</td>\n",
       "      <td>Material: Leather</td>\n",
       "      <td>1.0</td>\n",
       "      <td>Birkin 40 Retourné tote bag in Togo leather, \"...</td>\n",
       "      <td>9010.0</td>\n",
       "    </tr>\n",
       "  </tbody>\n",
       "</table>\n",
       "</div>"
      ],
      "text/plain": [
       "               brand                                       title  \\\n",
       "3881   Louis Vuitton                        Neverfull cloth tote   \n",
       "5591   Louis Vuitton  Alma patent leather handbag - Grayish Blue   \n",
       "10856         Hermès                    Kelly 32 leather handbag   \n",
       "12428         Hermès                   Leather Handbag Birkin 40   \n",
       "\n",
       "                   price_range  price  discount_price  n_likes  limited  \\\n",
       "3881      £659 £523.16 £523.16    NaN             NaN     64.0        0   \n",
       "5591   £914.12 £837.94 £837.94    NaN             NaN     29.0        0   \n",
       "10856       £5,164.72 £5164.72    NaN             NaN     20.0        0   \n",
       "12428       £6,350.14 £6350.14    NaN             NaN     46.0        0   \n",
       "\n",
       "       model            condition           m_model  material  \\\n",
       "3881     NaN       Good condition  Model: Neverfull       NaN   \n",
       "5591     NaN  Very good condition       Model: Alma       NaN   \n",
       "10856    NaN       Good condition   Model: Kelly 32       NaN   \n",
       "12428    NaN  Very good condition  Model: Birkin 40       NaN   \n",
       "\n",
       "                                                   color  \\\n",
       "3881   Location:France,\\n          from\\n          th...   \n",
       "5591   Location:United States,\\n          from\\n     ...   \n",
       "10856  Location:Italy,\\n          from\\n          the...   \n",
       "12428  Location:France,\\n          from\\n          th...   \n",
       "\n",
       "                     m_material  sold_out  \\\n",
       "3881            Material: Cloth       1.0   \n",
       "5591   Material: Patent leather       1.0   \n",
       "10856         Material: Leather       1.0   \n",
       "12428         Material: Leather       1.0   \n",
       "\n",
       "                                             description  mean_retail_price  \n",
       "3881                                                 NaN             1070.0  \n",
       "5591                                                 NaN             1670.0  \n",
       "10856  Kelly 32 handbag in dark taupe Togo leather, e...             6925.0  \n",
       "12428  Birkin 40 Retourné tote bag in Togo leather, \"...             9010.0  "
      ]
     },
     "execution_count": 300,
     "metadata": {},
     "output_type": "execute_result"
    }
   ],
   "source": [
    "# Review invalid inpute\n",
    "bags[(bags['color'] == 'Location:France,\\n          from\\n          the seller Vestiaire Collective') | (bags['color'] == 'Location:United States,\\n          from\\n          the seller willow') | (bags['color'] == 'Location:Italy,\\n          from\\n          the seller ludovica')]"
   ]
  },
  {
   "cell_type": "code",
   "execution_count": 301,
   "metadata": {
    "ExecuteTime": {
     "end_time": "2021-04-25T13:49:04.340022Z",
     "start_time": "2021-04-25T13:49:04.333028Z"
    }
   },
   "outputs": [],
   "source": [
    "# Fix manually colors based on the description and info from website\n",
    "bags.iloc[3881, 11] = 'Color: Brown'\n",
    "bags.iloc[5591, 11] = 'Color: Blue'\n",
    "bags.iloc[10856, 11] = 'Color: Brown'\n",
    "bags.iloc[12428, 11] = 'Color: Black'"
   ]
  },
  {
   "cell_type": "code",
   "execution_count": 302,
   "metadata": {
    "ExecuteTime": {
     "end_time": "2021-04-25T13:49:04.499873Z",
     "start_time": "2021-04-25T13:49:04.483083Z"
    }
   },
   "outputs": [],
   "source": [
    "# Extract unique model name with lambda function and substitute nan value for further assigning step\n",
    "\n",
    "bags.m_model = bags.m_model.apply(lambda x: str(x).split(':')[1].strip() if str(x) != 'nan' else np.nan)"
   ]
  },
  {
   "cell_type": "code",
   "execution_count": 303,
   "metadata": {
    "ExecuteTime": {
     "end_time": "2021-04-25T13:49:04.647434Z",
     "start_time": "2021-04-25T13:49:04.636603Z"
    }
   },
   "outputs": [
    {
     "data": {
      "text/plain": [
       "Speedy                 2022\n",
       "Neverfull              1579\n",
       "Boy                    1358\n",
       "Alma                   1339\n",
       "Timeless/Classique      798\n",
       "Birkin 35               780\n",
       "Wallet on Chain         767\n",
       "2.55                    645\n",
       "Kelly 32                546\n",
       "Birkin 30               425\n",
       "Alma BB                 370\n",
       "Kelly 28                338\n",
       "Kelly 35                330\n",
       "Birkin 40               186\n",
       "Pochette Accessoire     166\n",
       "Kelly 25                160\n",
       "Birkin 25               152\n",
       "Speedy Bandoulière      144\n",
       "Keepall                  37\n",
       "Capucines                33\n",
       "Twist                    32\n",
       "Onthego                  28\n",
       "Metis                    27\n",
       "NéoNoé                   23\n",
       "Speedy time trunk         3\n",
       "NéoNoé BB                 2\n",
       "Alma Graffiti             2\n",
       "Name: m_model, dtype: int64"
      ]
     },
     "execution_count": 303,
     "metadata": {},
     "output_type": "execute_result"
    }
   ],
   "source": [
    "# Check results and count the subgroups\n",
    "bags.m_model.value_counts()"
   ]
  },
  {
   "cell_type": "code",
   "execution_count": 304,
   "metadata": {
    "ExecuteTime": {
     "end_time": "2021-04-25T13:49:04.820660Z",
     "start_time": "2021-04-25T13:49:04.812085Z"
    }
   },
   "outputs": [
    {
     "data": {
      "text/plain": [
       "array(['Pochette Accessoire cloth clutch bag', 'Speedy cloth handbag',\n",
       "       'Speedy leather bowling bag', 'Neverfull cloth tote',\n",
       "       'Keepall cloth 48h bag', 'Neverfull cloth handbag',\n",
       "       'Capucines leather handbag',\n",
       "       'Speedy Bandoulière cloth crossbody bag', 'NéoNoé cloth handbag',\n",
       "       'Onthego leather tote', 'Alma patent leather handbag',\n",
       "       'Pochette Accessoire leather clutch bag', 'Twist leather handbag',\n",
       "       'Speedy Bandoulière shearling handbag',\n",
       "       'Speedy Bandoulière cloth handbag', 'Alma cloth handbag',\n",
       "       'Speedy glitter bowling bag', 'Capucines alligator handbag',\n",
       "       'Neverfull leather tote', 'Metis cloth crossbody bag',\n",
       "       'Pochette Accessoire leather bag', 'Keepall cloth travel bag',\n",
       "       'Neverfull leather clutch bag', 'Neverfull shearling tote',\n",
       "       'NéoNoé cloth bag', 'NéoNoé leather handbag',\n",
       "       'Speedy leather handbag', 'Twist leather crossbody bag',\n",
       "       'Neverfull leather handbag', 'Speedy cloth bag',\n",
       "       'Onthego cloth tote', 'Keepall 24h bag', 'Speedy ostrich handbag',\n",
       "       'Speedy handbag', 'Speedy cloth crossbody bag',\n",
       "       'Alma leather handbag', 'Metis leather handbag',\n",
       "       'NéoNoé BB leather bag', 'Alma handbag', 'Onthego leather handbag',\n",
       "       'Neverfull cloth clutch bag', 'Pochette Accessoire cloth handbag',\n",
       "       'Capucines python crossbody bag',\n",
       "       'Speedy Bandoulière leather handbag', 'Speedy cloth tote',\n",
       "       'Speedy Bandoulière leather crossbody bag', 'Onthego tote',\n",
       "       'Keepall cloth 24h bag', 'Speedy patent leather handbag',\n",
       "       'Alma patent leather crossbody bag',\n",
       "       'Pochette Accessoire leather mini bag',\n",
       "       'Pochette Accessoire glitter clutch bag',\n",
       "       'NéoNoé leather crossbody bag', 'Patent leather handbag',\n",
       "       'Alma alligator handbag', 'Alma BB leather handbag',\n",
       "       'Alma BB leather crossbody bag', 'Alma BB cloth crossbody bag',\n",
       "       'Metis leather crossbody bag', 'Alma leather crossbody bag',\n",
       "       'Metis cloth handbag', 'Alma BB patent leather mini bag',\n",
       "       'Speedy cloth bowling bag', 'Twist handbag',\n",
       "       'Jungle Collection Neverfull cloth tote', 'Alma BB crossbody bag',\n",
       "       'Capucine patent leather handbag', 'NéoNoé cloth crossbody bag',\n",
       "       'Neverfull tote', 'Alma cloth tote', 'Speedy shearling handbag',\n",
       "       'Alma BB varan handbag', 'Capucines leather crossbody bag',\n",
       "       'Alma BB patent leather handbag', 'White Cloth Handbag Speedy',\n",
       "       'Keepall leather 48h bag',\n",
       "       'Speedy Bandoulière faux fur crossbody bag',\n",
       "       'Neverfull leather crossbody bag',\n",
       "       'Alma BB patent leather crossbody bag', 'Speedy leather bag',\n",
       "       'Speedy Bandoulière bowling bag', 'Onthego cloth handbag',\n",
       "       'Neverfull linen tote', 'Speedy Bandoulière handbag',\n",
       "       'Alma cloth bag', 'Neverfull clutch bag',\n",
       "       'Keepall leather travel bag', 'Capucines leather tote',\n",
       "       'Alma Graffiti leather handbag', 'Twist cloth crossbody bag',\n",
       "       'Twist python handbag', 'Speedy Bandoulière shearling bowling bag',\n",
       "       'Capucines cloth handbag', 'Speedy Bandoulière shearling bag',\n",
       "       'Keepall travel bag', 'Neverfull handbag', 'Capucines leather bag',\n",
       "       'Cloth handbag', 'Leather clutch bag', 'Leather handbag',\n",
       "       'Speedy velvet handbag', 'Pochette Accessoire clutch bag',\n",
       "       'Speedy leather crossbody bag', 'Keepall leather 24h bag',\n",
       "       'Twist crossbody bag', 'Twist cloth handbag',\n",
       "       'Metis cloth clutch bag', 'Silver Cloth Handbag Speedy',\n",
       "       'Speedy patent leather bag', 'Neverfull patent leather handbag',\n",
       "       'Neverfull patent leather bag', 'Speedy glitter handbag',\n",
       "       'Neverfull cloth mini bag', 'Speedy satchel',\n",
       "       'Speedy leather satchel', 'Pochette Accessoire leather handbag',\n",
       "       'Handbag', 'Speedy time trunk leather handbag',\n",
       "       'Speedy time trunk cloth bowling bag', 'Onthego shearling handbag',\n",
       "       'Speedy Bandoulière cloth bowling bag', 'Speedy linen bag',\n",
       "       'Alma BB glitter crossbody bag', 'NéoNoé BB leather handbag',\n",
       "       'Neverfull linen clutch bag', 'Speedy Bandoulière cloth bag',\n",
       "       'Speedy Bandoulière cloth mini bag', 'Speedy bag',\n",
       "       'Neverfull cloth 48h bag', 'Alma BB cloth bag', 'Cloth clutch bag',\n",
       "       'Speedy Bandoulière shearling tote', 'Speedy leather tote',\n",
       "       'Speedy Bandoulière crossbody bag',\n",
       "       'Beige Patent leather Handbag Speedy', 'Speedy crossbody bag',\n",
       "       'Speedy Bandoulière leather bag', 'Leather bowling bag',\n",
       "       'Speedy Bandoulière leather bowling bag', 'Speedy cloth mini bag',\n",
       "       'Speedy python handbag', 'Speedy leather mini bag',\n",
       "       'Speedy wool handbag', 'Brown Cloth Handbag Speedy',\n",
       "       'Speedy patent leather tote', 'Speedy bowling bag',\n",
       "       'Speedy linen handbag', 'Speedy cloth satchel',\n",
       "       'Speedy patent leather mini bag',\n",
       "       'Speedy patent leather bowling bag', 'Neverfull cloth bag', 'Tote',\n",
       "       'Neverfull bag', 'Neverfull leather mini bag',\n",
       "       'Neverfull leather bag', 'Leather tote',\n",
       "       'Neverfull alligator handbag', 'Neverfull patent leather tote',\n",
       "       'Beige Leather Handbag Neverfull', 'Neverfull cloth crossbody bag',\n",
       "       'Neverfull leather satchel', 'Alma BB leather bag',\n",
       "       'Leather crossbody bag', 'Alma leather bag',\n",
       "       'Alma patent leather bag', 'Alma BB cloth handbag',\n",
       "       'Alma BB leather bowling bag',\n",
       "       'Alma BB patent leather bowling bag',\n",
       "       'Alma BB ostrich crossbody bag', 'Alma leather mini bag',\n",
       "       'Alma patent leather mini bag', 'Alma leather tote',\n",
       "       'Alma patent leather tote', 'Alma ostrich handbag',\n",
       "       'Leather satchel', 'Alma BB python handbag',\n",
       "       'Alma BB patent leather bag', 'Alma BB python crossbody bag',\n",
       "       'Alma leather satchel', 'Alma silk handbag',\n",
       "       'Alma BB leather mini bag', 'Alma BB handbag',\n",
       "       'Patent leather satchel', 'Alma glitter handbag',\n",
       "       'Alma patent leather satchel', 'Alma crocodile crossbody bag',\n",
       "       '\\\\\"Alma\\\\\" leather handbag', 'Alma patent leather bowling bag',\n",
       "       'Alma BB leather satchel', 'Alma leather bowling bag',\n",
       "       'Alma patent leather handbag - Grayish Blue', 'Alma fox handbag',\n",
       "       'Alma cloth crossbody bag', 'Alma BB fabric crossbody bag',\n",
       "       'Alma BB ostrich handbag', 'Alma Leather handbag',\n",
       "       'Alma shearling handbag', 'Leather Alma BB bag',\n",
       "       'Boy leather handbag', 'Boy patent leather bag', 'Boy leather bag',\n",
       "       'Boy patent leather crossbody bag', 'Boy leather crossbody bag',\n",
       "       'Boy patent leather handbag', 'Boy crossbody bag',\n",
       "       'Boy velvet crossbody bag', 'Boy python handbag',\n",
       "       'Boy cloth handbag', 'Boy velvet handbag',\n",
       "       'Boy glitter crossbody bag', 'Boy handbag',\n",
       "       'Boy stingray crossbody bag', 'Boy glitter handbag',\n",
       "       'Boy tweed handbag', 'Boy stingray handbag',\n",
       "       'Boy python crossbody bag', 'Boy tweed crossbody bag',\n",
       "       'Boy stingray bag', 'Boy velvet bag', 'Boy leather tote',\n",
       "       'Boy cloth crossbody bag', 'Boy lizard crossbody bag',\n",
       "       'Boy exotic leathers handbag', 'Boy patent leather mini bag',\n",
       "       'Velvet handbag', 'Boy wool handbag', 'Boy crocodile handbag',\n",
       "       'Boy tweed bag', 'Boy bag', 'Boy alligator handbag',\n",
       "       'Boy silk handbag', 'Boy pony-style calfskin handbag',\n",
       "       'Boy lizard bag', 'Boy shearling handbag',\n",
       "       'Boy wool crossbody bag', 'Wallet on Chain handbag in...',\n",
       "       'Boy pony-style calfskin crossbody bag',\n",
       "       'Black Leather Handbag Boy', 'Boy handbag in leather', 'HAND BAG',\n",
       "       'Boy rabbit handbag', 'Boy python mini bag',\n",
       "       'Boy rabbit crossbody bag', 'Boy stingray mini bag',\n",
       "       'Boy lizard handbag', 'Boy python bag', 'Boy leather mini bag',\n",
       "       'Boy satin bag', 'Boy Black Leather Handbag',\n",
       "       'Leather shoulder bag', 'Timeless/Classique leather handbag',\n",
       "       'Timeless/Classique patent leather handbag',\n",
       "       'Timeless/Classique python handbag',\n",
       "       'Timeless/Classique leather crossbody bag',\n",
       "       'Timeless/Classique python crossbody bag',\n",
       "       'Timeless/Classique crossbody bag', 'Timeless leather handbag',\n",
       "       'Timeless alligator handbag', 'Timeless/Classique glitter handbag',\n",
       "       'Timeless/Classique leather mini bag',\n",
       "       'Timeless/Classique leather bag',\n",
       "       'Timeless/Classique cloth handbag',\n",
       "       'Timeless/Classique tweed handbag', 'Timeless leather mini bag',\n",
       "       'Timeless/Classique wool handbag',\n",
       "       'Timeless/Classique patent leather bag',\n",
       "       'Timeless/Classique velvet handbag',\n",
       "       'Timeless/Classique alligator handbag',\n",
       "       'Timeless/Classique patent leather crossbody bag',\n",
       "       'Timeless/Classique handbag', 'Timeless patent leather handbag',\n",
       "       'Timeless/Classique tweed bag', 'Timeless/Classique leather tote',\n",
       "       'Leather mini bag', 'Timeless/Classique crocodile handbag',\n",
       "       'Black Leather Handbag Timeless/Classique',\n",
       "       'Timeless tweed handbag', 'Timeless/Classique wool crossbody bag',\n",
       "       'Timeless/Classique linen handbag',\n",
       "       'Timeless/Classique velvet bag',\n",
       "       'Timeless/Classique leather mini bag. \"There are marks on the flap please see photos\".',\n",
       "       'Timeless/Classique tweed crossbody bag',\n",
       "       'Timeless patent leather crossbody bag',\n",
       "       'Timeless/Classique linen bag', 'Timeless/Classique Cloth handbag',\n",
       "       'Timeless wool handbag', '2.55 leather crossbody bag',\n",
       "       '2.55 leather handbag', '2.55 leather bag', '2.55 silk handbag',\n",
       "       '2.55 crossbody bag', '2.55 handbag', '2.55 tweed handbag',\n",
       "       '2.55 lizard handbag', '2.55 cloth handbag',\n",
       "       '2.55 patent leather handbag', '2.55 tweed crossbody bag',\n",
       "       '2.55 cloth crossbody bag', '2.55 leather tote',\n",
       "       '2.55 patent leather crossbody bag', '2.55 python crossbody bag',\n",
       "       '2.55 python handbag', '2.55 glitter handbag',\n",
       "       '2.55 crocodile handbag', '2.55 velvet handbag',\n",
       "       '2.55 wool handbag', '2.55 patent leather bag',\n",
       "       '2.55 faux fur bag', '2.55 rabbit handbag',\n",
       "       '2.55 alligator handbag', '2.55 fox crossbody bag',\n",
       "       '2.55 patent leather tote', 'Black Leather Handbag 2.55',\n",
       "       'Leather Handbag 2.55', 'Timeless/Classique cloth crossbody bag',\n",
       "       '2.55 patent leather mini bag', '2.55 LEATHER HANDBAG', '2.55 bag',\n",
       "       '2.55 leather mini bag', '2.55 tweed tote',\n",
       "       '2.55 leather bowling bag',\n",
       "       'Wallet on Chain leather crossbody bag',\n",
       "       'Wallet on Chain patent leather handbag',\n",
       "       'Wallet on Chain leather bag', 'Wallet on Chain leather handbag',\n",
       "       'Wallet on Chain cloth crossbody bag',\n",
       "       'Wallet on Chain crossbody bag', 'Wallet on Chain cloth mini bag',\n",
       "       'Wallet on Chain bag', 'Wallet on Chain lizard crossbody bag',\n",
       "       'Wallet on Chain cloth handbag',\n",
       "       'Wallet on Chain velvet crossbody bag',\n",
       "       'Wallet on Chain python handbag', 'Wallet on Chain silk handbag',\n",
       "       'Wallet on Chain patent leather crossbody bag',\n",
       "       'Wallet on Chain tweed crossbody bag',\n",
       "       'Wallet on Chain velvet handbag',\n",
       "       'Wallet on Chain leather mini bag',\n",
       "       'Wallet on Chain tweed handbag', 'Wallet on Chain handbag',\n",
       "       'Bag on Chain leather handbag',\n",
       "       'Wallet on Chain patent leather bag',\n",
       "       'Wallet on Chain python crossbody bag',\n",
       "       'Wallet on Chain velvet mini bag',\n",
       "       'Wallet on Chain silk crossbody bag',\n",
       "       'Wallet on Chain wool crossbody bag',\n",
       "       'Wallet on Chain patent leather mini bag',\n",
       "       'Wallet on Chain\\tCloth handbag', 'Kelly 28 leather crossbody bag',\n",
       "       'Kelly 25 leather crossbody bag', 'Kelly 28 leather handbag',\n",
       "       'Kelly 32 leather handbag', 'Kelly 25 cloth handbag',\n",
       "       'Kelly 35 leather handbag', 'Kelly 25 leather bag',\n",
       "       'Kelly 25 leather handbag', 'Kelly 32 alligator handbag',\n",
       "       'Kelly 25 crocodile handbag', 'Kelly 28 crocodile bag',\n",
       "       'Kelly 28 crocodile handbag', 'Kelly 32 crocodile handbag',\n",
       "       'Kelly 28 alligator handbag', 'Kelly 28 lizard handbag',\n",
       "       'Kelly 32 pony-style calfskin crossbody bag',\n",
       "       'Kelly 35 cloth handbag', 'Kelly 28 ostrich handbag',\n",
       "       'Kelly 25 lizard handbag', 'Kelly 35 crocodile handbag',\n",
       "       'Kelly leather handbag', 'Kelly 35 ostrich handbag',\n",
       "       'Kelly 32 cloth handbag', 'Kelly 35 crocodile bag',\n",
       "       'Burgundy Lizard Handbag Kelly 20', 'Kelly 28 leather bag',\n",
       "       'Kelly 32 ostrich handbag', 'Kelly 28 leather tote',\n",
       "       'Kelly 35 leather crossbody bag', 'Kelly handbag',\n",
       "       'Kelly 32 leather bag', 'Kelly 35 leather bag',\n",
       "       'Kelly handbag in leather', 'Kelly 32 leather crossbody bag',\n",
       "       'Kelly 35 cloth crossbody bag', 'Kelly 35 Leather handbag',\n",
       "       'Kelly 35 pony-style calfskin handbag',\n",
       "       'Kelly 35 alligator handbag', 'Birkin 35 leather handbag',\n",
       "       'Kelly 25 handbag', 'Kelly 35 exotic leathers handbag',\n",
       "       'Kelly 28 cloth handbag', 'Kelly 32 ostrich bag',\n",
       "       'Kelly crocodile handbag', 'Kelly 25 alligator handbag',\n",
       "       'Kelly 35 lizard handbag', 'Kelly 35 handbag',\n",
       "       'Kelly 35 crocodile crossbody bag', 'Kelly 32 leather satchel',\n",
       "       'Kelly leather crossbody bag', 'Kelly leather tote',\n",
       "       'Kelly 32 exotic leathers handbag', 'Beige Leather Handbag Kelly',\n",
       "       'Kelly alligator handbag', 'Kelly 25 ostrich handbag', 'BAG',\n",
       "       'Hermes Kelly Flat', 'Kelly exotic leathers bag',\n",
       "       'Kelly 28 patent leather handbag', 'Leather bag',\n",
       "       'Kelly 25 leather tote', 'Black Leather Handbag Kelly 35',\n",
       "       'Kelly 32 handbag', 'Kelly 32 crocodile bag',\n",
       "       'Kelly 25 leather mini bag', 'Kelly 28 ostrich crossbody bag',\n",
       "       'Kelly 32 lizard handbag', 'White Plastic Handbag Kelly 35',\n",
       "       'Birkin 25 leather handbag', 'Birkin 30 leather handbag',\n",
       "       'Birkin 30 leather tote', 'Birkin 40 leather handbag',\n",
       "       'Birkin 35 leather bag', 'Birkin 30 crocodile handbag',\n",
       "       'Birkin 35 crocodile handbag',\n",
       "       'Birkin 30 Niloticus crocodile handbag', 'Birkin 35 cloth handbag',\n",
       "       'Birkin 25 crocodile handbag', 'Birkin 30 ostrich handbag',\n",
       "       'Birkin 35 pony-style calfskin handbag', 'Birkin leather handbag',\n",
       "       'Birkin leather bag', 'Birkin crocodile handbag',\n",
       "       'Birkin 35 alligator handbag', 'Leather Handbag Birkin',\n",
       "       'Birkin alligator handbag', 'Birkin 40 leather tote',\n",
       "       'Blue Leather Handbag Birkin', 'Leather Handbag Birkin 30',\n",
       "       'Bolso de cuero birkin 25 Sellier', 'Birkin 40 ostrich handbag',\n",
       "       'Birkin 40 leather bag', 'Birkin 25 alligator handbag',\n",
       "       'Birkin 40 leather mini bag', 'Birkin 30 leather bag',\n",
       "       'Birkin 30 alligator handbag', 'Birkin 25 ostrich handbag',\n",
       "       'Crocodile handbag', 'Green Ostrich Handbag Birkin 30',\n",
       "       'Birkin 25 leather bag', 'Birkin 35 handbag',\n",
       "       'Birkin 25 lizard handbag', 'Birkin 35 leather tote',\n",
       "       'Birkin 35 crocodile bag', 'Birkin 35 cloth bag',\n",
       "       'Birkin 40 cloth handbag', 'Birkin 35 ostrich handbag',\n",
       "       'Birkin 30 crocodile tote', 'Birkin 35 leather satchel',\n",
       "       'Birkin 30 lizard handbag', 'Birkin 40 alligator handbag',\n",
       "       'Brown Exotic leathers Handbag Birkin',\n",
       "       'Birkin 40 leather satchel', 'Birkin 30 ostrich bag',\n",
       "       'Birkin 35 patent leather handbag', 'Birkin 40 crocodile handbag',\n",
       "       'Birkin 35 exotic leathers handbag', 'Birkin leather tote bag',\n",
       "       'Birkin 25 leather tote', 'Navy Leather Handbag Birkin 30',\n",
       "       'Leather Handbag Birkin 40', 'Blue Leather Handbag Birkin 35',\n",
       "       'Birkin 25 Gris Etain PHW Togo leather handbag',\n",
       "       'Birkin 30 Barenia handbag', 'Birkin 35 ostrich bag',\n",
       "       'Birkin 32 ostrich handbag', 'Birkin 30 Leather handbag',\n",
       "       'Birkin 35 Leather handbag', 'Birkin ostrich handbag'],\n",
       "      dtype=object)"
      ]
     },
     "execution_count": 304,
     "metadata": {},
     "output_type": "execute_result"
    }
   ],
   "source": [
    "# Check invalid inputs and manually replace them with valid values\n",
    "bags.title.unique() "
   ]
  },
  {
   "cell_type": "code",
   "execution_count": 305,
   "metadata": {
    "ExecuteTime": {
     "end_time": "2021-04-25T13:49:05.014491Z",
     "start_time": "2021-04-25T13:49:04.988214Z"
    }
   },
   "outputs": [],
   "source": [
    "bags.title = bags.title.apply(lambda x: x.replace('\\\\\"Alma\\\\\" leather handbag', 'Alma leather bag').replace('Tote', 'Neverfull').replace('in...', '').replace(\"There are marks on the flap please see photos\", '')\n",
    "                              .replace('\\tCloth', ' Cloth').replace('Leather satchel', 'Alma Leather satchel').replace(' Patent Leather satchel', 'Alma Patent Leather satchel').replace('Velvet handbag', 'Boy Velvet handbag')\n",
    "                             .replace('Leather mini bag', 'Timeless/Classique Leather mini bag').replace('Leather bag', 'Kelly Leather bag').replace(' 48h', '').replace('24h ', '')\n",
    "                             .replace('. \"\".', '').replace('Timeless/Classique Timeless/Classique Timeless/Classique Timeless/Classique Timeless/Classique Timeless/Classique Timeless/Classique Leather mini bag', 'Timeless/Classique Leather mini bag')\n",
    "                             .replace('  bag', 'bag').replace('2.55 LEATHER Kelly 32 leather handbag', '2.55 leather handbag').replace('Gris Etain PHW ', '')\n",
    "                             .replace('Timeless/Classique Timeless/Classique Timeless/Classique Leather mini bag', 'Timeless/Classique Leather mini bag').replace('Beige ', '').strip())\n"
   ]
  },
  {
   "cell_type": "code",
   "execution_count": 306,
   "metadata": {
    "ExecuteTime": {
     "end_time": "2021-04-25T13:49:05.163117Z",
     "start_time": "2021-04-25T13:49:05.154272Z"
    }
   },
   "outputs": [],
   "source": [
    "# reassign a few rows that left with uninformative description \n",
    "\n",
    "bags.iloc[6869, 1] = 'Boy leather handbag'\n",
    "bags.iloc[8781, 1] = '2.55 leather handbag'\n",
    "bags.loc[(bags.title == 'BAG'), 'title'] = 'Kelly 32 leather handbag'"
   ]
  },
  {
   "cell_type": "code",
   "execution_count": 307,
   "metadata": {
    "ExecuteTime": {
     "end_time": "2021-04-25T13:49:05.516753Z",
     "start_time": "2021-04-25T13:49:05.333684Z"
    }
   },
   "outputs": [],
   "source": [
    "# Create lambda function to extract first word from title column and assign missing values in m_model\n",
    "\n",
    "f = lambda x: x['title'].split(' ')[0].strip()\n",
    "bags.loc[bags.m_model.isnull(), 'm_model'] = bags.apply(f, axis=1)"
   ]
  },
  {
   "cell_type": "code",
   "execution_count": 308,
   "metadata": {
    "ExecuteTime": {
     "end_time": "2021-04-25T13:49:05.528082Z",
     "start_time": "2021-04-25T13:49:05.519449Z"
    }
   },
   "outputs": [
    {
     "data": {
      "text/plain": [
       "Speedy                 2098\n",
       "Neverfull              1654\n",
       "Boy                    1421\n",
       "Alma                   1400\n",
       "Timeless/Classique      862\n",
       "Birkin 35               780\n",
       "Wallet on Chain         767\n",
       "2.55                    706\n",
       "Kelly 32                546\n",
       "Birkin 30               425\n",
       "Alma BB                 370\n",
       "Kelly 28                338\n",
       "Kelly 35                330\n",
       "Birkin 40               186\n",
       "Pochette Accessoire     166\n",
       "Kelly 25                160\n",
       "Birkin 25               152\n",
       "Speedy Bandoulière      144\n",
       "Kelly                    68\n",
       "Wallet                   62\n",
       "Birkin                   61\n",
       "Keepall                  37\n",
       "Capucines                35\n",
       "Twist                    32\n",
       "Metis                    31\n",
       "Onthego                  31\n",
       "NéoNoé                   26\n",
       "Pochette                 17\n",
       "Speedy time trunk         3\n",
       "NéoNoé BB                 2\n",
       "Alma Graffiti             2\n",
       "Burgundy                  1\n",
       "Cloth                     1\n",
       "Silver                    1\n",
       "Leather                   1\n",
       "Name: m_model, dtype: int64"
      ]
     },
     "execution_count": 308,
     "metadata": {},
     "output_type": "execute_result"
    }
   ],
   "source": [
    "bags.m_model.value_counts()"
   ]
  },
  {
   "cell_type": "code",
   "execution_count": 309,
   "metadata": {
    "ExecuteTime": {
     "end_time": "2021-04-25T13:49:05.676063Z",
     "start_time": "2021-04-25T13:49:05.657900Z"
    }
   },
   "outputs": [],
   "source": [
    "# bags.loc[bags['m_model'] == 'Burgundy']\n",
    "\n",
    "# Substitute invalid values with the appropriate ones manulally\n",
    "bags.loc[bags['m_model'] == 'Leather', 'm_model'] = 'Neverfull'\n",
    "bags.loc[bags['m_model'] == 'Silver', 'm_model'] = 'Speedy'\n",
    "bags.loc[bags['m_model'] == 'Cloth', 'm_model'] = 'Speedy'\n",
    "bags.loc[bags['m_model'] == 'Burgundy', 'm_model'] = 'Kelly'\n",
    "bags.loc[bags['m_model'] == 'Wallet', 'm_model'] = 'Woc'"
   ]
  },
  {
   "cell_type": "code",
   "execution_count": 310,
   "metadata": {
    "ExecuteTime": {
     "end_time": "2021-04-25T13:49:05.861663Z",
     "start_time": "2021-04-25T13:49:05.858748Z"
    }
   },
   "outputs": [],
   "source": [
    "# bags.loc[bags.title == 'Leather crossbody bag']\n",
    "# bags.loc[bags.title == 'Leather tote']\n",
    "# bags.loc[bags.title == 'Handbag']"
   ]
  },
  {
   "cell_type": "code",
   "execution_count": 311,
   "metadata": {
    "ExecuteTime": {
     "end_time": "2021-04-25T13:49:06.350502Z",
     "start_time": "2021-04-25T13:49:06.021075Z"
    }
   },
   "outputs": [],
   "source": [
    "# Fix some groups of title column with relevant values (checked previously the subsets of these rows)\n",
    "\n",
    "funct1 = lambda x: str(x['m_model'] + ' Leather crossbody bag')\n",
    "bags.loc[bags.title == 'Leather crossbody bag', 'title'] = bags.apply(funct1, axis=1)\n",
    "\n",
    "funct2 = lambda x: str(x['m_model'] + ' Leather tote')\n",
    "bags.loc[bags.title == 'Leather tote', 'title'] = bags.apply(funct2, axis=1)\n",
    "\n",
    "funct3 = lambda x: str(x['m_model'] + ' handbag')\n",
    "bags.loc[bags.title == 'Handbag', 'title'] = bags.apply(funct3, axis=1)\n"
   ]
  },
  {
   "cell_type": "code",
   "execution_count": 312,
   "metadata": {
    "ExecuteTime": {
     "end_time": "2021-04-25T13:49:06.527731Z",
     "start_time": "2021-04-25T13:49:06.352624Z"
    }
   },
   "outputs": [],
   "source": [
    "# Assign model column to specific model name by extracting certain value with lambds function\n",
    "\n",
    "l = lambda x: str(x['m_model']).replace('Wallet', 'woc').replace('Timeless/Classique', 'classic_flap').lower().split(' ')[0].strip()\n",
    "bags['model'] = bags.apply(l, axis=1)"
   ]
  },
  {
   "cell_type": "code",
   "execution_count": 313,
   "metadata": {
    "ExecuteTime": {
     "end_time": "2021-04-25T13:49:06.547703Z",
     "start_time": "2021-04-25T13:49:06.531619Z"
    }
   },
   "outputs": [
    {
     "data": {
      "text/plain": [
       "speedy          2247\n",
       "alma            1772\n",
       "neverfull       1655\n",
       "birkin          1604\n",
       "kelly           1443\n",
       "boy             1421\n",
       "classic_flap     862\n",
       "woc              829\n",
       "2.55             706\n",
       "pochette         183\n",
       "keepall           37\n",
       "capucines         35\n",
       "twist             32\n",
       "metis             31\n",
       "onthego           31\n",
       "néonoé            28\n",
       "Name: model, dtype: int64"
      ]
     },
     "execution_count": 313,
     "metadata": {},
     "output_type": "execute_result"
    }
   ],
   "source": [
    "# Check results and count values of each subcategory\n",
    "bags.model.value_counts()"
   ]
  },
  {
   "cell_type": "code",
   "execution_count": 314,
   "metadata": {
    "ExecuteTime": {
     "end_time": "2021-04-25T13:49:06.578228Z",
     "start_time": "2021-04-25T13:49:06.555668Z"
    }
   },
   "outputs": [],
   "source": [
    "#  Make 3 lists out of unique names in brand column in chronological order assign each value to relevant brand name\n",
    "# bags.brand.unique()\n",
    "\n",
    "list_l = ['Silver Cloth Handbag Speedy',\n",
    "       'Capucines leather handbag',\n",
    "       'Pochette Accessoire cloth clutch bag',\n",
    "       'Neverfull patent leather handbag', 'Onthego cloth tote',\n",
    "       'Speedy leather bowling bag', 'Metis cloth handbag',\n",
    "       'Speedy cloth handbag', 'Speedy leather handbag',\n",
    "       'NéoNoé cloth handbag', 'Neverfull leather tote',\n",
    "       'NéoNoé leather handbag', 'Neverfull leather clutch bag',\n",
    "       'Neverfull cloth tote', 'Speedy handbag',\n",
    "       'Pochette Accessoire clutch bag', 'Metis cloth crossbody bag',\n",
    "       'Pochette Accessoire leather clutch bag', 'Onthego cloth handbag',\n",
    "       'Neverfull cloth handbag', 'Neverfull patent leather bag',\n",
    "       'Alma leather handbag', 'Speedy cloth bowling bag',\n",
    "       'Metis leather crossbody bag', 'Speedy glitter handbag',\n",
    "       'NéoNoé cloth bag', 'Neverfull cloth mini bag',\n",
    "       'Speedy cloth tote', 'Speedy leather bag', 'Speedy cloth bag',\n",
    "       'Cloth handbag', 'Neverfull leather handbag',\n",
    "       'Neverfull cloth bag', 'Neverfull tote', 'Neverfull leather bag',\n",
    "       'Neverfull patent leather tote', 'Beige Leather Handbag Neverfull',\n",
    "       'Alma patent leather handbag', 'Alma BB leather bag',\n",
    "       'Alma cloth handbag', 'Alma BB leather handbag',\n",
    "       'Alma BB cloth crossbody bag', 'Alma BB patent leather handbag',\n",
    "       'Alma BB cloth handbag', 'Alma BB patent leather bag',\n",
    "       'Alma leather bag', 'Alma BB patent leather crossbody bag',\n",
    "       'Alma cloth bag', 'Alma patent leather bowling bag',\n",
    "       'Alma BB leather satchel', 'Alma leather crossbody bag']\n",
    "\n",
    "list_c = ['Boy leather handbag', 'Boy leather bag',\n",
    "       'Boy leather crossbody bag', 'Boy stingray mini bag',\n",
    "       'Boy handbag', 'Boy tweed handbag', 'Boy lizard handbag',\n",
    "       'Boy tweed crossbody bag', 'Boy patent leather crossbody bag',\n",
    "       'Boy velvet handbag', 'Boy glitter crossbody bag',\n",
    "       'Boy python bag', 'Boy leather mini bag',\n",
    "       'Timeless/Classique leather crossbody bag',\n",
    "       'Timeless/Classique leather handbag',\n",
    "       'Timeless/Classique leather bag',\n",
    "       'Timeless/Classique glitter handbag',\n",
    "       'Timeless/Classique patent leather handbag',\n",
    "       'Timeless/Classique linen handbag',\n",
    "       'Timeless/Classique leather mini bag',\n",
    "       'Timeless/Classique velvet bag',\n",
    "       'Timeless/Classique cloth crossbody bag', '2.55 leather handbag',\n",
    "       '2.55 handbag', '2.55 crossbody bag',\n",
    "       '2.55 patent leather handbag', '2.55 leather crossbody bag',\n",
    "       '2.55 leather bag', '2.55 patent leather mini bag',\n",
    "       '2.55 patent leather bag', '2.55 alligator handbag',\n",
    "       '2.55 cloth handbag', '2.55 tweed handbag',\n",
    "       'Wallet on Chain leather handbag',\n",
    "       'Wallet on Chain leather crossbody bag',\n",
    "       'Wallet on Chain leather bag',\n",
    "       'Wallet on Chain tweed crossbody bag',\n",
    "       'Wallet on Chain python crossbody bag',\n",
    "       'Wallet on Chain patent leather handbag',\n",
    "       'Wallet on Chain velvet crossbody bag',\n",
    "       'Wallet on Chain patent leather crossbody bag']\n",
    "\n",
    "liss = ['Kelly 28 leather handbag', 'Burgundy Lizard Handbag Kelly 20',\n",
    "       'Kelly 25 leather handbag', 'Kelly 32 leather handbag',\n",
    "       'Kelly leather handbag', 'Kelly 25 leather bag',\n",
    "       'Kelly 25 leather crossbody bag', 'Kelly 28 leather bag',\n",
    "       'Kelly 35 leather handbag', 'Leather bag',\n",
    "       'Birkin 35 leather handbag', 'Kelly 32 leather bag',\n",
    "       'Kelly 32 cloth handbag', 'Kelly 25 leather tote',\n",
    "       'Birkin 30 leather handbag', 'Birkin 25 leather handbag',\n",
    "       'Birkin 35 cloth handbag', 'Birkin 30 leather tote',\n",
    "       'Birkin 35 leather bag', 'Birkin 30 ostrich handbag',\n",
    "       'Birkin 25 leather bag', 'Birkin 25 leather tote',\n",
    "       'Birkin 40 leather handbag', 'Birkin 40 leather bag',\n",
    "       'Birkin 35 leather tote']\n",
    "\n",
    "bags.brand = bags.brand.apply(lambda x:'Louis Vuitton' if x in list_l else x)"
   ]
  },
  {
   "cell_type": "code",
   "execution_count": 315,
   "metadata": {
    "ExecuteTime": {
     "end_time": "2021-04-25T13:49:06.752793Z",
     "start_time": "2021-04-25T13:49:06.736140Z"
    }
   },
   "outputs": [],
   "source": [
    "bags.brand = bags.brand.apply(lambda x:'Chanel' if x in list_c else x)"
   ]
  },
  {
   "cell_type": "code",
   "execution_count": 316,
   "metadata": {
    "ExecuteTime": {
     "end_time": "2021-04-25T13:49:06.933421Z",
     "start_time": "2021-04-25T13:49:06.920528Z"
    }
   },
   "outputs": [],
   "source": [
    "bags.brand = bags.brand.apply(lambda x:'Hermès' if x in liss else x)"
   ]
  },
  {
   "cell_type": "code",
   "execution_count": 317,
   "metadata": {
    "ExecuteTime": {
     "end_time": "2021-04-25T13:49:07.126973Z",
     "start_time": "2021-04-25T13:49:07.119376Z"
    }
   },
   "outputs": [
    {
     "data": {
      "text/plain": [
       "Louis Vuitton    6051\n",
       "Chanel           3818\n",
       "Hermès           3047\n",
       "Name: brand, dtype: int64"
      ]
     },
     "execution_count": 317,
     "metadata": {},
     "output_type": "execute_result"
    }
   ],
   "source": [
    "# Check results after implementing lambda functions on this brand column and count values in all subcategories\n",
    "bags.brand.value_counts()"
   ]
  },
  {
   "cell_type": "code",
   "execution_count": 318,
   "metadata": {
    "ExecuteTime": {
     "end_time": "2021-04-25T13:49:07.378261Z",
     "start_time": "2021-04-25T13:49:07.357890Z"
    }
   },
   "outputs": [
    {
     "data": {
      "text/plain": [
       "Brown          3616\n",
       "Black          2801\n",
       "Blue            834\n",
       "Red             695\n",
       "Multicolour     573\n",
       "Beige           559\n",
       "Pink            529\n",
       "Other           506\n",
       "White           422\n",
       "Grey            337\n",
       "Green           285\n",
       "Burgundy        272\n",
       "Orange          238\n",
       "Camel           221\n",
       "Purple          212\n",
       "Navy            172\n",
       "Gold            164\n",
       "Yellow          132\n",
       "Silver          123\n",
       "Ecru             64\n",
       "Turquoise        50\n",
       "Metallic         44\n",
       "Khaki            39\n",
       "Anthracite       28\n",
       "Name: color, dtype: int64"
      ]
     },
     "execution_count": 318,
     "metadata": {},
     "output_type": "execute_result"
    }
   ],
   "source": [
    "# Clean color column from prefix 'Color:' and from duplicates color, keep only unique color names\n",
    "bags.color = bags.color.apply(lambda x: x.replace('camel', 'Camel').replace('brown/black', 'Black').split(':')[1].strip())\n",
    "\n",
    "bags.color.value_counts()"
   ]
  },
  {
   "cell_type": "code",
   "execution_count": 319,
   "metadata": {
    "ExecuteTime": {
     "end_time": "2021-04-25T13:49:07.824189Z",
     "start_time": "2021-04-25T13:49:07.808853Z"
    }
   },
   "outputs": [
    {
     "data": {
      "text/plain": [
       "Leather                7683\n",
       "Cloth                  3515\n",
       "Patent leather          762\n",
       "Exotic leathers         380\n",
       "Synthetic               130\n",
       "Velvet                   77\n",
       "Cotton                   72\n",
       "Tweed                    68\n",
       "Denim - Jeans            62\n",
       "Suede                    41\n",
       "Fur                      31\n",
       "Plastic                  25\n",
       "Glitter                  18\n",
       "Wool                     15\n",
       "Silk                     11\n",
       "Linen                     9\n",
       "Pony-style calfskin       5\n",
       "Faux fur                  4\n",
       "Other                     4\n",
       "Polyester                 2\n",
       "Wicker                    1\n",
       "Metal                     1\n",
       "Name: material, dtype: int64"
      ]
     },
     "execution_count": 319,
     "metadata": {},
     "output_type": "execute_result"
    }
   ],
   "source": [
    "# Clean material column from prefix 'Material:', keep only unique material names / drop m_material column\n",
    "bags.material = bags.m_material.apply(lambda x: x.split(':')[1].strip())\n",
    "bags.material.value_counts()"
   ]
  },
  {
   "cell_type": "code",
   "execution_count": 320,
   "metadata": {
    "ExecuteTime": {
     "end_time": "2021-04-25T13:49:08.092430Z",
     "start_time": "2021-04-25T13:49:08.082746Z"
    }
   },
   "outputs": [],
   "source": [
    "bags.drop(['m_material'], axis=1, inplace=True)"
   ]
  },
  {
   "cell_type": "code",
   "execution_count": 321,
   "metadata": {
    "ExecuteTime": {
     "end_time": "2021-04-25T13:49:08.355423Z",
     "start_time": "2021-04-25T13:49:08.335389Z"
    }
   },
   "outputs": [
    {
     "data": {
      "text/plain": [
       "0         1080.00\n",
       "1          495.00\n",
       "2         1480.00\n",
       "3         1880.00\n",
       "4         1850.00\n",
       "           ...   \n",
       "12911    13783.90\n",
       "12912    14296.80\n",
       "12913    12330.99\n",
       "12914     5986.79\n",
       "12915    14261.35\n",
       "Name: price, Length: 12916, dtype: float64"
      ]
     },
     "execution_count": 321,
     "metadata": {},
     "output_type": "execute_result"
    }
   ],
   "source": [
    "# Fill price column with the main price from price_range column , convert it to float and remove unrelevant characters\n",
    "bags.price = bags.price_range.apply(lambda x: float(x.replace('£', '').replace(',', '').split(' ')[0]))\n",
    "bags.price"
   ]
  },
  {
   "cell_type": "code",
   "execution_count": 322,
   "metadata": {
    "ExecuteTime": {
     "end_time": "2021-04-25T13:49:08.618180Z",
     "start_time": "2021-04-25T13:49:08.597740Z"
    }
   },
   "outputs": [
    {
     "data": {
      "text/plain": [
       "0          776.00\n",
       "1          495.00\n",
       "2         1480.00\n",
       "3         1880.00\n",
       "4         1680.00\n",
       "           ...   \n",
       "12911    13783.90\n",
       "12912    14296.80\n",
       "12913    10445.60\n",
       "12914     4512.43\n",
       "12915    14261.35\n",
       "Name: discount_price, Length: 12916, dtype: float64"
      ]
     },
     "execution_count": 322,
     "metadata": {},
     "output_type": "execute_result"
    }
   ],
   "source": [
    "# Fill discount_price column with discounted price where relevant from price_range column \n",
    "# Convert it to float and remove unneeded characters, check the results after implemented lambda function\n",
    "\n",
    "bags.discount_price = bags.price_range.apply(lambda x: float(x.replace('£', '').replace(',', '').split(' ')[1]))\n",
    "bags.discount_price"
   ]
  },
  {
   "cell_type": "code",
   "execution_count": 323,
   "metadata": {
    "ExecuteTime": {
     "end_time": "2021-04-25T13:49:08.917808Z",
     "start_time": "2021-04-25T13:49:08.910252Z"
    }
   },
   "outputs": [],
   "source": [
    "# Clean very low values, many of them has price typos \n",
    "bags.drop(bags.index[(bags.discount_price < 200)], inplace=True)\n",
    "\n",
    "# reset index and dropping new column with old index\n",
    "bags.reset_index(inplace=True, drop=True)"
   ]
  },
  {
   "cell_type": "code",
   "execution_count": 324,
   "metadata": {
    "ExecuteTime": {
     "end_time": "2021-04-25T13:49:09.270151Z",
     "start_time": "2021-04-25T13:49:09.240015Z"
    }
   },
   "outputs": [
    {
     "data": {
      "text/html": [
       "<div>\n",
       "<style scoped>\n",
       "    .dataframe tbody tr th:only-of-type {\n",
       "        vertical-align: middle;\n",
       "    }\n",
       "\n",
       "    .dataframe tbody tr th {\n",
       "        vertical-align: top;\n",
       "    }\n",
       "\n",
       "    .dataframe thead th {\n",
       "        text-align: right;\n",
       "    }\n",
       "</style>\n",
       "<table border=\"1\" class=\"dataframe\">\n",
       "  <thead>\n",
       "    <tr style=\"text-align: right;\">\n",
       "      <th></th>\n",
       "      <th>brand</th>\n",
       "      <th>title</th>\n",
       "      <th>price_range</th>\n",
       "      <th>price</th>\n",
       "      <th>discount_price</th>\n",
       "      <th>n_likes</th>\n",
       "      <th>limited</th>\n",
       "      <th>model</th>\n",
       "      <th>condition</th>\n",
       "      <th>m_model</th>\n",
       "      <th>material</th>\n",
       "      <th>color</th>\n",
       "      <th>sold_out</th>\n",
       "      <th>description</th>\n",
       "      <th>mean_retail_price</th>\n",
       "    </tr>\n",
       "  </thead>\n",
       "  <tbody>\n",
       "    <tr>\n",
       "      <th>8696</th>\n",
       "      <td>Chanel</td>\n",
       "      <td>2.55 alligator handbag</td>\n",
       "      <td>£14,499 £13,395 £13395</td>\n",
       "      <td>14499.00</td>\n",
       "      <td>13395.00</td>\n",
       "      <td>42.0</td>\n",
       "      <td>0</td>\n",
       "      <td>2.55</td>\n",
       "      <td>Very good condition</td>\n",
       "      <td>2.55</td>\n",
       "      <td>Leather</td>\n",
       "      <td>Black</td>\n",
       "      <td>1.0</td>\n",
       "      <td>NaN</td>\n",
       "      <td>14200.0</td>\n",
       "    </tr>\n",
       "    <tr>\n",
       "      <th>10477</th>\n",
       "      <td>Hermès</td>\n",
       "      <td>Kelly 35 crocodile handbag</td>\n",
       "      <td>£9,829.05 £8,256.4 £8256.4</td>\n",
       "      <td>9829.05</td>\n",
       "      <td>8256.40</td>\n",
       "      <td>90.0</td>\n",
       "      <td>0</td>\n",
       "      <td>kelly</td>\n",
       "      <td>Very good condition</td>\n",
       "      <td>Kelly</td>\n",
       "      <td>Leather</td>\n",
       "      <td>Black</td>\n",
       "      <td>0.0</td>\n",
       "      <td>NaN</td>\n",
       "      <td>28900.0</td>\n",
       "    </tr>\n",
       "    <tr>\n",
       "      <th>11083</th>\n",
       "      <td>Hermès</td>\n",
       "      <td>Kelly 28 crocodile handbag</td>\n",
       "      <td>£11,314.25 £8,849.71 £8849.71</td>\n",
       "      <td>11314.25</td>\n",
       "      <td>8849.71</td>\n",
       "      <td>79.0</td>\n",
       "      <td>0</td>\n",
       "      <td>kelly</td>\n",
       "      <td>Very good condition</td>\n",
       "      <td>Kelly 28</td>\n",
       "      <td>Leather</td>\n",
       "      <td>Navy</td>\n",
       "      <td>1.0</td>\n",
       "      <td>Year 2017, limited edition. \"Kelly 28\" model h...</td>\n",
       "      <td>28900.0</td>\n",
       "    </tr>\n",
       "  </tbody>\n",
       "</table>\n",
       "</div>"
      ],
      "text/plain": [
       "        brand                       title                    price_range  \\\n",
       "8696   Chanel      2.55 alligator handbag         £14,499 £13,395 £13395   \n",
       "10477  Hermès  Kelly 35 crocodile handbag     £9,829.05 £8,256.4 £8256.4   \n",
       "11083  Hermès  Kelly 28 crocodile handbag  £11,314.25 £8,849.71 £8849.71   \n",
       "\n",
       "          price  discount_price  n_likes  limited  model            condition  \\\n",
       "8696   14499.00        13395.00     42.0        0   2.55  Very good condition   \n",
       "10477   9829.05         8256.40     90.0        0  kelly  Very good condition   \n",
       "11083  11314.25         8849.71     79.0        0  kelly  Very good condition   \n",
       "\n",
       "        m_model material  color  sold_out  \\\n",
       "8696       2.55  Leather  Black       1.0   \n",
       "10477     Kelly  Leather  Black       0.0   \n",
       "11083  Kelly 28  Leather   Navy       1.0   \n",
       "\n",
       "                                             description  mean_retail_price  \n",
       "8696                                                 NaN            14200.0  \n",
       "10477                                                NaN            28900.0  \n",
       "11083  Year 2017, limited edition. \"Kelly 28\" model h...            28900.0  "
      ]
     },
     "execution_count": 324,
     "metadata": {},
     "output_type": "execute_result"
    }
   ],
   "source": [
    "# Check if material column Exotic leather category wrongly assigned \n",
    "\n",
    "bags.loc[bags['title'].str.contains(\"Crocodile|crocodile|Alligator|alligator\") & (bags.material == 'Leather')]"
   ]
  },
  {
   "cell_type": "code",
   "execution_count": 325,
   "metadata": {
    "ExecuteTime": {
     "end_time": "2021-04-25T13:49:09.535357Z",
     "start_time": "2021-04-25T13:49:09.519909Z"
    }
   },
   "outputs": [],
   "source": [
    "# Assign it to the right material categoty (because of big difference in price it's better to fix) \n",
    "\n",
    "bags.loc[bags['title'].str.contains(\"Crocodile|crocodile|Alligator|alligator\"), 'material'] = 'Exotic leathers'"
   ]
  },
  {
   "cell_type": "code",
   "execution_count": 326,
   "metadata": {
    "ExecuteTime": {
     "end_time": "2021-04-25T13:49:09.854407Z",
     "start_time": "2021-04-25T13:49:09.806313Z"
    }
   },
   "outputs": [],
   "source": [
    "# Manually final cleaning and assign some updated values for some obsevations in Lv and Hermes brands \n",
    "bags.iloc[970, 1] = 'Speedy cloth handbag Royal Wedding'\n",
    "bags.iloc[970, 5] = 58\n",
    "bags.iloc[970, 6] = 1\n",
    "bags.iloc[970, 14] = 1790\n",
    "\n",
    "bags.iloc[943, 6] = 1\n",
    "bags.iloc[943, 14] = 1790\n",
    "bags.iloc[4867, 6] = 1\n",
    "\n",
    "bags.loc[(bags.discount_price > 1600) & bags['model'].str.contains(\"speedy\"), 'limited'] = 1\n",
    "bags.loc[(bags.discount_price > 1750) & bags['model'].str.contains(\"neverfull\"), 'limited'] = 1\n",
    "bags.loc[(bags.discount_price > 2700) & bags['model'].str.contains(\"speedy\") & (bags['mean_retail_price'] == 825), 'mean_retail_price'] = 1640\n",
    "bags.loc[(bags.discount_price > 2100) & bags['model'].str.contains(\"neverfull\") & (bags['mean_retail_price'] == 1070), 'mean_retail_price'] = 1510\n",
    "\n",
    "bags.iloc[11375, 10] = 'Exotic leathers'\n",
    "bags.iloc[11375, 14] = 28900\n",
    "bags.iloc[12333, 10] = 'Exotic leathers'\n",
    "bags.iloc[12333, 14] = 20300\n",
    "bags.iloc[10631, 9] = 'Kelly 25'\n",
    "bags.iloc[10634, 9] = 'Kelly 32'\n",
    "bags.iloc[10668, 9] = 'Kelly 25'"
   ]
  },
  {
   "cell_type": "code",
   "execution_count": 327,
   "metadata": {
    "ExecuteTime": {
     "end_time": "2021-04-25T13:49:10.029534Z",
     "start_time": "2021-04-25T13:49:10.026724Z"
    }
   },
   "outputs": [],
   "source": [
    "# bags.iloc[12196:12254]"
   ]
  },
  {
   "cell_type": "code",
   "execution_count": 328,
   "metadata": {
    "ExecuteTime": {
     "end_time": "2021-04-25T13:49:10.767485Z",
     "start_time": "2021-04-25T13:49:10.577774Z"
    }
   },
   "outputs": [],
   "source": [
    "# Create lambda function to extract first word from title column and assign it more descriptive in m_model column\n",
    "f = lambda x: x['title'][:8].strip()\n",
    "bags.loc[bags.m_model.str.endswith(\"Kelly\"), 'm_model'] = bags.apply(f, axis=1)\n",
    "\n",
    "f2 = lambda x: x['title'][:9].strip()\n",
    "bags.loc[bags.m_model.str.endswith(\"Birkin\"), 'm_model'] = bags.apply(f2, axis=1)"
   ]
  },
  {
   "cell_type": "code",
   "execution_count": 329,
   "metadata": {
    "ExecuteTime": {
     "end_time": "2021-04-25T13:49:11.058737Z",
     "start_time": "2021-04-25T13:49:11.053306Z"
    }
   },
   "outputs": [],
   "source": [
    "# drop price_range column (no need in it after extracting data in 'price' and 'discount_price' columns)\n",
    "\n",
    "bags.drop(['price_range'], axis=1, inplace=True)"
   ]
  },
  {
   "cell_type": "code",
   "execution_count": 330,
   "metadata": {
    "ExecuteTime": {
     "end_time": "2021-04-25T13:49:11.609396Z",
     "start_time": "2021-04-25T13:49:11.604339Z"
    }
   },
   "outputs": [],
   "source": [
    "# rename one column name to make it more descriptive \n",
    "bags = bags.rename(columns={'discount_price': 'final_resale_price'})"
   ]
  },
  {
   "cell_type": "code",
   "execution_count": 331,
   "metadata": {
    "ExecuteTime": {
     "end_time": "2021-04-25T13:49:12.185061Z",
     "start_time": "2021-04-25T13:49:12.171397Z"
    }
   },
   "outputs": [
    {
     "name": "stdout",
     "output_type": "stream",
     "text": [
      "<class 'pandas.core.frame.DataFrame'>\n",
      "RangeIndex: 12774 entries, 0 to 12773\n",
      "Data columns (total 14 columns):\n",
      " #   Column              Non-Null Count  Dtype  \n",
      "---  ------              --------------  -----  \n",
      " 0   brand               12774 non-null  object \n",
      " 1   title               12774 non-null  object \n",
      " 2   price               12774 non-null  float64\n",
      " 3   final_resale_price  12774 non-null  float64\n",
      " 4   n_likes             12774 non-null  float64\n",
      " 5   limited             12774 non-null  int64  \n",
      " 6   model               12774 non-null  object \n",
      " 7   condition           12774 non-null  object \n",
      " 8   m_model             12774 non-null  object \n",
      " 9   material            12774 non-null  object \n",
      " 10  color               12774 non-null  object \n",
      " 11  sold_out            12774 non-null  float64\n",
      " 12  description         5122 non-null   object \n",
      " 13  mean_retail_price   12774 non-null  float64\n",
      "dtypes: float64(5), int64(1), object(8)\n",
      "memory usage: 1.4+ MB\n"
     ]
    }
   ],
   "source": [
    "# Cleaned data from invalid inputs and null values except description column (no need to have it for all bags because \n",
    "# of repeated information or not that informative for further steps)\n",
    "bags.info()"
   ]
  },
  {
   "cell_type": "code",
   "execution_count": 332,
   "metadata": {
    "ExecuteTime": {
     "end_time": "2021-04-25T13:49:14.971141Z",
     "start_time": "2021-04-25T13:49:14.816403Z"
    }
   },
   "outputs": [],
   "source": [
    "# Save cleaned data to csv file, keep same index\n",
    "bags.to_csv('cleaned_data_handbags.csv', index=False)"
   ]
  },
  {
   "cell_type": "markdown",
   "metadata": {},
   "source": [
    "## Data Dictionary :\n",
    "\n",
    "* brand  - Brand Name\n",
    "\n",
    "* title  - Title of the Handbag model\n",
    "\n",
    "* price  - Secondary market price\n",
    "\n",
    "* final_resale_price - Discounted price of secondary market if relevant (could be the same as initial price if there is no discount on the handbag \n",
    "\n",
    "* n_likes - Number of likes per handbag\n",
    "* limited - Limited edition or not (yes is 1/ no is 0) \n",
    "* model   - More general name of the Model of handbag\n",
    "* condition - Condition of the handbag\n",
    "* m_model - Specific Name of the Model of handbag \n",
    "* material - Type of the material the handbag made of \n",
    "* color   -  Color of the handbag\n",
    "* sold_out - Sold or Not sold (binary)\n",
    "* description - Description of the handbag\n",
    "* mean_retail_price - Mean Retail Price from original store or official articles\n",
    "    "
   ]
  }
 ],
 "metadata": {
  "kernelspec": {
   "display_name": "Python 3",
   "language": "python",
   "name": "python3"
  },
  "language_info": {
   "codemirror_mode": {
    "name": "ipython",
    "version": 3
   },
   "file_extension": ".py",
   "mimetype": "text/x-python",
   "name": "python",
   "nbconvert_exporter": "python",
   "pygments_lexer": "ipython3",
   "version": "3.8.5"
  },
  "toc": {
   "base_numbering": 1,
   "nav_menu": {},
   "number_sections": true,
   "sideBar": true,
   "skip_h1_title": false,
   "title_cell": "Table of Contents",
   "title_sidebar": "Contents",
   "toc_cell": false,
   "toc_position": {},
   "toc_section_display": true,
   "toc_window_display": false
  }
 },
 "nbformat": 4,
 "nbformat_minor": 4
}
